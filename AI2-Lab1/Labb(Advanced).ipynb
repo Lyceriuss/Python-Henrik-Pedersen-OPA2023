{
 "cells": [
  {
   "cell_type": "markdown",
   "metadata": {},
   "source": [
    "# On the Usage of LLM\n",
    "\n",
    "ChatGPT and other LLM are limited and can only help you so much. Overusage leads to a lack of ability to understand and comprehend your code.\n",
    "But with that said, LLM are excellent debugging tools and having conversations and solutionoriented conversations with a LLM is the future, i remember the time i had to sit on stackoverflow and being stuck could result in willpower being drained as well as just ending up stuck untill you stumble upon the solution or ask someone else. \n",
    "\n",
    "So we love LLM and we look forward to helping them improve and improve with them, the dream programmers had of a rubberduck that can talk back and help you achieve that is already here. So during parts of hte code you will see exert of GPT documentation, that is mainly the result copy paste syntax."
   ]
  },
  {
   "cell_type": "code",
   "execution_count": 119,
   "metadata": {},
   "outputs": [],
   "source": [
    "import pandas as pd\n",
    "import matplotlib.pyplot as plt\n",
    "import numpy as np\n",
    "from scipy.sparse import csr_matrix, lil_matrix, hstack\n",
    "from sklearn.model_selection import train_test_split\n",
    "from sklearn.neighbors import NearestNeighbors\n",
    "from sklearn.feature_extraction.text import TfidfVectorizer\n",
    "from sklearn.preprocessing import MinMaxScaler\n",
    "from sklearn.metrics.pairwise import cosine_similarity\n",
    "\n",
    "import seaborn as sns\n",
    "from fuzzywuzzy import process, fuzz"
   ]
  },
  {
   "cell_type": "code",
   "execution_count": 64,
   "metadata": {},
   "outputs": [],
   "source": [
    "df_ratings = pd.read_csv(\n",
    "    \"data/ratings.csv\",\n",
    "    dtype={\"userId\": \"int32\", \"movieId\": \"int32\", \"rating\": \"float32\"}\n",
    ")\n",
    "\n",
    "# Calculate the reviews count and average rating, then reset index\n",
    "# Ensure \"reviews\" is kept as an int\n",
    "ratings_count = df_ratings.groupby(\"movieId\").size().reset_index(\n",
    "    name=\"reviews\")\n",
    "average_ratings = df_ratings.groupby(\n",
    "    \"movieId\")[\"rating\"].mean().round(1).reset_index(name=\"Rating\")\n",
    "\n",
    "# Read in the movies data\n",
    "df_movies = pd.read_csv(\n",
    "    \"data/movies.csv\",\n",
    "    usecols=[\"movieId\", \"title\", \"genres\"],\n",
    "    dtype={\"movieId\": \"int32\", \"title\": \"str\", \"genres\": \"str\"}\n",
    ")\n",
    "\n",
    "df_movies[\"genres\"] = df_movies[\"genres\"].apply(\n",
    "    lambda x: [genre.lower() for genre in x.split(\"|\")])\n",
    "\n",
    "df_merged = df_movies.merge(ratings_count, on=\"movieId\", how=\"left\").merge(\n",
    "    average_ratings, on=\"movieId\", how=\"left\")\n",
    "\n",
    "df_filtered_movies = df_merged[df_merged[\"reviews\"] >= 300].dropna()\n",
    "\n",
    "# Convert \"reviews\" to int explicitly\n",
    "df_filtered_movies[\"reviews\"] = df_filtered_movies[\"reviews\"].astype(\"int32\")\n",
    "\n",
    "# Set \"movieId\" as the index\n",
    "df_filtered_movies.set_index(\"movieId\", inplace=True)\n",
    "df_filtered_movies.reset_index(drop=True, inplace=True)"
   ]
  },
  {
   "cell_type": "code",
   "execution_count": 138,
   "metadata": {},
   "outputs": [],
   "source": [
    "top_rated_movies = df_filtered_movies.sort_values(\n",
    "    by=\"reviews\", ascending=False).head(int(len(df_filtered_movies) * 0.1))\n",
    "\n",
    "bottom_rated_movies = df_filtered_movies.sort_values(\n",
    "    by=\"reviews\", ascending=False).tail(int(len(df_filtered_movies) * 0.1))"
   ]
  },
  {
   "cell_type": "code",
   "execution_count": 49,
   "metadata": {},
   "outputs": [
    {
     "data": {
      "text/html": [
       "<div>\n",
       "<style scoped>\n",
       "    .dataframe tbody tr th:only-of-type {\n",
       "        vertical-align: middle;\n",
       "    }\n",
       "\n",
       "    .dataframe tbody tr th {\n",
       "        vertical-align: top;\n",
       "    }\n",
       "\n",
       "    .dataframe thead th {\n",
       "        text-align: right;\n",
       "    }\n",
       "</style>\n",
       "<table border=\"1\" class=\"dataframe\">\n",
       "  <thead>\n",
       "    <tr style=\"text-align: right;\">\n",
       "      <th></th>\n",
       "      <th>title</th>\n",
       "      <th>genres</th>\n",
       "      <th>reviews</th>\n",
       "      <th>Rating</th>\n",
       "    </tr>\n",
       "  </thead>\n",
       "  <tbody>\n",
       "    <tr>\n",
       "      <th>0</th>\n",
       "      <td>Toy Story (1995)</td>\n",
       "      <td>[Adventure, Animation, Children, Comedy, Fantasy]</td>\n",
       "      <td>76813</td>\n",
       "      <td>3.9</td>\n",
       "    </tr>\n",
       "    <tr>\n",
       "      <th>1</th>\n",
       "      <td>Jumanji (1995)</td>\n",
       "      <td>[Adventure, Children, Fantasy]</td>\n",
       "      <td>30209</td>\n",
       "      <td>3.3</td>\n",
       "    </tr>\n",
       "    <tr>\n",
       "      <th>2</th>\n",
       "      <td>Grumpier Old Men (1995)</td>\n",
       "      <td>[Comedy, Romance]</td>\n",
       "      <td>15820</td>\n",
       "      <td>3.2</td>\n",
       "    </tr>\n",
       "    <tr>\n",
       "      <th>3</th>\n",
       "      <td>Waiting to Exhale (1995)</td>\n",
       "      <td>[Comedy, Drama, Romance]</td>\n",
       "      <td>3028</td>\n",
       "      <td>2.9</td>\n",
       "    </tr>\n",
       "    <tr>\n",
       "      <th>4</th>\n",
       "      <td>Father of the Bride Part II (1995)</td>\n",
       "      <td>[Comedy]</td>\n",
       "      <td>15801</td>\n",
       "      <td>3.1</td>\n",
       "    </tr>\n",
       "  </tbody>\n",
       "</table>\n",
       "</div>"
      ],
      "text/plain": [
       "                                title  \\\n",
       "0                    Toy Story (1995)   \n",
       "1                      Jumanji (1995)   \n",
       "2             Grumpier Old Men (1995)   \n",
       "3            Waiting to Exhale (1995)   \n",
       "4  Father of the Bride Part II (1995)   \n",
       "\n",
       "                                              genres  reviews  Rating  \n",
       "0  [Adventure, Animation, Children, Comedy, Fantasy]    76813     3.9  \n",
       "1                     [Adventure, Children, Fantasy]    30209     3.3  \n",
       "2                                  [Comedy, Romance]    15820     3.2  \n",
       "3                           [Comedy, Drama, Romance]     3028     2.9  \n",
       "4                                           [Comedy]    15801     3.1  "
      ]
     },
     "execution_count": 49,
     "metadata": {},
     "output_type": "execute_result"
    }
   ],
   "source": [
    "df_filtered_movies.head(5)\n"
   ]
  },
  {
   "cell_type": "code",
   "execution_count": 50,
   "metadata": {},
   "outputs": [
    {
     "name": "stdout",
     "output_type": "stream",
     "text": [
      "<class 'pandas.core.frame.DataFrame'>\n",
      "RangeIndex: 7876 entries, 0 to 7875\n",
      "Data columns (total 4 columns):\n",
      " #   Column   Non-Null Count  Dtype  \n",
      "---  ------   --------------  -----  \n",
      " 0   title    7876 non-null   object \n",
      " 1   genres   7876 non-null   object \n",
      " 2   reviews  7876 non-null   int32  \n",
      " 3   Rating   7876 non-null   float32\n",
      "dtypes: float32(1), int32(1), object(2)\n",
      "memory usage: 184.7+ KB\n"
     ]
    }
   ],
   "source": [
    "df_filtered_movies.info()"
   ]
  },
  {
   "cell_type": "markdown",
   "metadata": {},
   "source": [
    "## Baysian Average\n",
    "\n",
    "It makes the data more reliable for items with less reviews in a dataset with a mix of both. We have cut off movies with less than 300 reviews in our cold start so that might not be nessecary, but still cool to have."
   ]
  },
  {
   "cell_type": "code",
   "execution_count": 67,
   "metadata": {},
   "outputs": [],
   "source": [
    "m = df_ratings[\"rating\"].mean()\n",
    "C = df_ratings.groupby(\"movieId\").size().mean()\n",
    "\n",
    "#Baysian might be used later if our dataset \n",
    "df_filtered_movies[\"bayesian_avg\"] = (\n",
    "    df_filtered_movies[\"reviews\"] * df_filtered_movies[\"Rating\"] + C * m) / (df_filtered_movies[\"reviews\"] + C)     #The actual algorithm\n",
    "df_filtered_movies[\"bayesian_avg\"] = df_filtered_movies[\"bayesian_avg\"].round(1)                                    #Adding it back inside rounded to 1 deciminal\n"
   ]
  },
  {
   "cell_type": "code",
   "execution_count": 52,
   "metadata": {},
   "outputs": [
    {
     "data": {
      "text/html": [
       "<div>\n",
       "<style scoped>\n",
       "    .dataframe tbody tr th:only-of-type {\n",
       "        vertical-align: middle;\n",
       "    }\n",
       "\n",
       "    .dataframe tbody tr th {\n",
       "        vertical-align: top;\n",
       "    }\n",
       "\n",
       "    .dataframe thead th {\n",
       "        text-align: right;\n",
       "    }\n",
       "</style>\n",
       "<table border=\"1\" class=\"dataframe\">\n",
       "  <thead>\n",
       "    <tr style=\"text-align: right;\">\n",
       "      <th></th>\n",
       "      <th>title</th>\n",
       "      <th>genres</th>\n",
       "      <th>reviews</th>\n",
       "      <th>Rating</th>\n",
       "      <th>bayesian_avg</th>\n",
       "    </tr>\n",
       "  </thead>\n",
       "  <tbody>\n",
       "    <tr>\n",
       "      <th>0</th>\n",
       "      <td>Toy Story (1995)</td>\n",
       "      <td>[Adventure, Animation, Children, Comedy, Fantasy]</td>\n",
       "      <td>76813</td>\n",
       "      <td>3.9</td>\n",
       "      <td>3.9</td>\n",
       "    </tr>\n",
       "    <tr>\n",
       "      <th>1</th>\n",
       "      <td>Jumanji (1995)</td>\n",
       "      <td>[Adventure, Children, Fantasy]</td>\n",
       "      <td>30209</td>\n",
       "      <td>3.3</td>\n",
       "      <td>3.3</td>\n",
       "    </tr>\n",
       "    <tr>\n",
       "      <th>2</th>\n",
       "      <td>Grumpier Old Men (1995)</td>\n",
       "      <td>[Comedy, Romance]</td>\n",
       "      <td>15820</td>\n",
       "      <td>3.2</td>\n",
       "      <td>3.2</td>\n",
       "    </tr>\n",
       "    <tr>\n",
       "      <th>3</th>\n",
       "      <td>Waiting to Exhale (1995)</td>\n",
       "      <td>[Comedy, Drama, Romance]</td>\n",
       "      <td>3028</td>\n",
       "      <td>2.9</td>\n",
       "      <td>3.0</td>\n",
       "    </tr>\n",
       "    <tr>\n",
       "      <th>4</th>\n",
       "      <td>Father of the Bride Part II (1995)</td>\n",
       "      <td>[Comedy]</td>\n",
       "      <td>15801</td>\n",
       "      <td>3.1</td>\n",
       "      <td>3.1</td>\n",
       "    </tr>\n",
       "    <tr>\n",
       "      <th>...</th>\n",
       "      <td>...</td>\n",
       "      <td>...</td>\n",
       "      <td>...</td>\n",
       "      <td>...</td>\n",
       "      <td>...</td>\n",
       "    </tr>\n",
       "    <tr>\n",
       "      <th>7871</th>\n",
       "      <td>John Wick: Chapter 4 (2023)</td>\n",
       "      <td>[Action, Crime, Thriller]</td>\n",
       "      <td>651</td>\n",
       "      <td>3.7</td>\n",
       "      <td>3.6</td>\n",
       "    </tr>\n",
       "    <tr>\n",
       "      <th>7872</th>\n",
       "      <td>Dungeons &amp; Dragons: Honor Among Thieves (2023)</td>\n",
       "      <td>[Action, Adventure, Fantasy]</td>\n",
       "      <td>488</td>\n",
       "      <td>3.7</td>\n",
       "      <td>3.6</td>\n",
       "    </tr>\n",
       "    <tr>\n",
       "      <th>7873</th>\n",
       "      <td>Guardians of the Galaxy Volume 3 (2023)</td>\n",
       "      <td>[Action, Adventure, Sci-Fi]</td>\n",
       "      <td>534</td>\n",
       "      <td>3.8</td>\n",
       "      <td>3.7</td>\n",
       "    </tr>\n",
       "    <tr>\n",
       "      <th>7874</th>\n",
       "      <td>The Super Mario Bros. Movie (2023)</td>\n",
       "      <td>[Adventure, Animation, Children, Comedy, Fantasy]</td>\n",
       "      <td>366</td>\n",
       "      <td>3.3</td>\n",
       "      <td>3.4</td>\n",
       "    </tr>\n",
       "    <tr>\n",
       "      <th>7875</th>\n",
       "      <td>Spider-Man: Across the Spider-Verse (2023)</td>\n",
       "      <td>[Action, Adventure, Animation, Sci-Fi]</td>\n",
       "      <td>528</td>\n",
       "      <td>4.3</td>\n",
       "      <td>4.0</td>\n",
       "    </tr>\n",
       "  </tbody>\n",
       "</table>\n",
       "<p>7876 rows × 5 columns</p>\n",
       "</div>"
      ],
      "text/plain": [
       "                                               title  \\\n",
       "0                                   Toy Story (1995)   \n",
       "1                                     Jumanji (1995)   \n",
       "2                            Grumpier Old Men (1995)   \n",
       "3                           Waiting to Exhale (1995)   \n",
       "4                 Father of the Bride Part II (1995)   \n",
       "...                                              ...   \n",
       "7871                     John Wick: Chapter 4 (2023)   \n",
       "7872  Dungeons & Dragons: Honor Among Thieves (2023)   \n",
       "7873         Guardians of the Galaxy Volume 3 (2023)   \n",
       "7874              The Super Mario Bros. Movie (2023)   \n",
       "7875      Spider-Man: Across the Spider-Verse (2023)   \n",
       "\n",
       "                                                 genres  reviews  Rating  \\\n",
       "0     [Adventure, Animation, Children, Comedy, Fantasy]    76813     3.9   \n",
       "1                        [Adventure, Children, Fantasy]    30209     3.3   \n",
       "2                                     [Comedy, Romance]    15820     3.2   \n",
       "3                              [Comedy, Drama, Romance]     3028     2.9   \n",
       "4                                              [Comedy]    15801     3.1   \n",
       "...                                                 ...      ...     ...   \n",
       "7871                          [Action, Crime, Thriller]      651     3.7   \n",
       "7872                       [Action, Adventure, Fantasy]      488     3.7   \n",
       "7873                        [Action, Adventure, Sci-Fi]      534     3.8   \n",
       "7874  [Adventure, Animation, Children, Comedy, Fantasy]      366     3.3   \n",
       "7875             [Action, Adventure, Animation, Sci-Fi]      528     4.3   \n",
       "\n",
       "      bayesian_avg  \n",
       "0              3.9  \n",
       "1              3.3  \n",
       "2              3.2  \n",
       "3              3.0  \n",
       "4              3.1  \n",
       "...            ...  \n",
       "7871           3.6  \n",
       "7872           3.6  \n",
       "7873           3.7  \n",
       "7874           3.4  \n",
       "7875           4.0  \n",
       "\n",
       "[7876 rows x 5 columns]"
      ]
     },
     "execution_count": 52,
     "metadata": {},
     "output_type": "execute_result"
    }
   ],
   "source": [
    "df_filtered_movies"
   ]
  },
  {
   "cell_type": "markdown",
   "metadata": {},
   "source": [
    "# Test-data tinkering small."
   ]
  },
  {
   "cell_type": "code",
   "execution_count": 95,
   "metadata": {},
   "outputs": [],
   "source": [
    "def create_feature_matrix(df):\n",
    "    \"\"\"\n",
    "    Given a dataframe with movies and their genres and Bayesian average ratings,\n",
    "    create a feature matrix using TF-IDF for genres and scaling for Bayesian average.\n",
    "    \"\"\"\n",
    "    def identity_tokenizer(text):\n",
    "        return text\n",
    "\n",
    "    vectorizer = TfidfVectorizer(\n",
    "        tokenizer=identity_tokenizer, lowercase=False, preprocessor=lambda x: x)    #Using new tokenizer rules because it won't translate the genre data correctly.\n",
    "    genres_matrix = vectorizer.fit_transform(df[\"genres\"])\n",
    "\n",
    "    scaler = MinMaxScaler()\n",
    "    bayesian_avg_scaled = scaler.fit_transform(\n",
    "        df[[\"bayesian_avg\"]])       # Convert to CSR format\n",
    "\n",
    "\n",
    "    # Convert to CSR format\n",
    "    feature_matrix = hstack([genres_matrix, bayesian_avg_scaled]).tocsr()\n",
    "\n",
    "    return feature_matrix, vectorizer, scaler, genres_matrix #Temporary Genres Matrix for EDA\n",
    "\n",
    "\n",
    "feature_matrix, vectorizer, scaler, genres_matrix = create_feature_matrix(\n",
    "    df_filtered_movies)\n",
    "\n",
    "# You can now proceed to create a DataFrame for the genres_matrix to explore the TF-IDF scores\n",
    "genres_tfidf_df = pd.DataFrame(\n",
    "    genres_matrix.toarray(), columns=sorted(vectorizer.vocabulary_.keys()))"
   ]
  },
  {
   "cell_type": "code",
   "execution_count": 70,
   "metadata": {},
   "outputs": [
    {
     "name": "stderr",
     "output_type": "stream",
     "text": [
      "c:\\Coding\\Python-Henrik-Pedersen-OPA2023\\venv\\lib\\site-packages\\sklearn\\feature_extraction\\text.py:525: UserWarning: The parameter 'token_pattern' will not be used since 'tokenizer' is not None'\n",
      "  warnings.warn(\n"
     ]
    }
   ],
   "source": [
    "feature_matrix, vectorizer, scaler, genres_matrix = create_feature_matrix(\n",
    "    df_filtered_movies)         #Matrix Maker"
   ]
  },
  {
   "cell_type": "code",
   "execution_count": 114,
   "metadata": {},
   "outputs": [],
   "source": [
    "def fit_knn_model(feature_matrix, n_neighbors=5):\n",
    "    \n",
    "    knn_model = NearestNeighbors(\n",
    "        metric='cosine', algorithm='brute', n_neighbors=n_neighbors, n_jobs=-1)\n",
    "    knn_model.fit(feature_matrix)\n",
    "    \n",
    "    return knn_model"
   ]
  },
  {
   "cell_type": "code",
   "execution_count": 216,
   "metadata": {},
   "outputs": [],
   "source": [
    "def Recommender(df, movie_index, knn_model, matrix,  n_neighbors=5):\n",
    "    \"\"\"\n",
    "    Recommends movies similar to the movie at the given index,\n",
    "    including additional recommendations from the top and bottom 10% most rated movies.\n",
    "    \n",
    "    :param df: DataFrame containing movies and their features\n",
    "    :param movie_index: Index of the movie in df to base recommendations on\n",
    "    :param knn_model: Fitted KNN model\n",
    "    :param genres_matrix: Genres matrix used for feature extraction\n",
    "    :param top_rated_movies: DataFrame containing top 10% most rated movies\n",
    "    :param bottom_rated_movies: DataFrame containing bottom 10% least rated movies\n",
    "    :param n_neighbors: Number of similar movies to find\n",
    "    :return: DataFrame containing recommended movies\n",
    "    \"\"\"\n",
    "    knn_model.fit(matrix)\n",
    "\n",
    "    # Find similar movies using KNN\n",
    "    distances, indices = knn_model.kneighbors(\n",
    "        matrix[movie_index], n_neighbors=n_neighbors + 1)\n",
    "\n",
    "    recommended_movie_indices = indices.flatten()[0:] # Lets keep the original\n",
    "    recommended_movies = df.iloc[recommended_movie_indices]\n",
    "\n",
    "    return recommended_movies[[\"title\", \"genres\", \"bayesian_avg\", \"reviews\"]]"
   ]
  },
  {
   "cell_type": "code",
   "execution_count": 217,
   "metadata": {},
   "outputs": [],
   "source": [
    "knn_model = fit_knn_model(feature_matrix)"
   ]
  },
  {
   "cell_type": "code",
   "execution_count": null,
   "metadata": {},
   "outputs": [],
   "source": []
  },
  {
   "cell_type": "code",
   "execution_count": 218,
   "metadata": {},
   "outputs": [
    {
     "name": "stdout",
     "output_type": "stream",
     "text": [
      "Vocabulary:\n",
      " {'adventure': 2, 'animation': 3, 'children': 4, 'comedy': 5, 'fantasy': 9, 'romance': 15, 'drama': 8, 'action': 1, 'crime': 6, 'thriller': 17, 'horror': 11, 'mystery': 14, 'sci-fi': 16, 'war': 18, 'musical': 13, 'documentary': 7, 'imax': 12, 'western': 19, 'film-noir': 10, '(no genres listed)': 0}\n",
      "\n",
      "IDF Scores:\n",
      " [7.02726342 2.61478416 2.95419626 3.92669709 3.63487667 2.01908729\n",
      " 3.01897376 4.41874281 1.76130614 3.47041273 5.62789698 3.23473544\n",
      " 4.96106711 4.3957533  3.66360396 2.77726555 3.22882176 2.47727218\n",
      " 4.19095888 5.02294251]\n"
     ]
    },
    {
     "name": "stderr",
     "output_type": "stream",
     "text": [
      "c:\\Coding\\Python-Henrik-Pedersen-OPA2023\\venv\\lib\\site-packages\\sklearn\\feature_extraction\\text.py:525: UserWarning: The parameter 'token_pattern' will not be used since 'tokenizer' is not None'\n",
      "  warnings.warn(\n"
     ]
    }
   ],
   "source": [
    "vectorizer = TfidfVectorizer(\n",
    "    tokenizer=identity_tokenizer, lowercase=False, preprocessor=lambda x: x)    # Called inside the method hence white\n",
    "_ = vectorizer.fit(df_filtered_movies[\"genres\"])\n",
    "vocab = vectorizer.vocabulary_\n",
    "idf_scores = vectorizer.idf_\n",
    "print(\"Vocabulary:\\n\", vocab)\n",
    "print(\"\\nIDF Scores:\\n\", idf_scores)"
   ]
  },
  {
   "cell_type": "code",
   "execution_count": 219,
   "metadata": {},
   "outputs": [
    {
     "name": "stdout",
     "output_type": "stream",
     "text": [
      "                  term         rank\n",
      "8                drama  2115.412982\n",
      "5               comedy  1750.922945\n",
      "17            thriller  1000.963102\n",
      "15             romance   930.161635\n",
      "1               action   855.127325\n",
      "6                crime   689.866266\n",
      "2            adventure   616.385241\n",
      "11              horror   607.301069\n",
      "16              sci-fi   532.199027\n",
      "9              fantasy   405.483061\n",
      "14             mystery   368.721409\n",
      "4             children   353.830335\n",
      "3            animation   264.419484\n",
      "18                 war   258.809807\n",
      "7          documentary   244.700130\n",
      "13             musical   197.880662\n",
      "19             western   118.347540\n",
      "12                imax   101.798590\n",
      "10           film-noir    62.932392\n",
      "0   (no genres listed)    18.000000\n"
     ]
    }
   ],
   "source": [
    "# Sum TF-IDF scores for each term across all movies\n",
    "sums = genres_matrix.sum(axis=0)\n",
    "# Connect term to its sum score\n",
    "data = []\n",
    "for col, term in enumerate(sorted(vocab.keys())):\n",
    "    data.append((term, sums[0, col]))\n",
    "ranking = pd.DataFrame(data, columns=['term', 'rank'])\n",
    "print(ranking.sort_values('rank', ascending=False))"
   ]
  },
  {
   "cell_type": "code",
   "execution_count": 155,
   "metadata": {},
   "outputs": [
    {
     "name": "stdout",
     "output_type": "stream",
     "text": [
      "(no genres listed): 7.027263420536884\n",
      "action: 2.6147841573473034\n",
      "adventure: 2.954196256762068\n",
      "animation: 3.9266970856673127\n",
      "children: 3.6348766685568834\n",
      "comedy: 2.0190872880523245\n",
      "crime: 3.018973755078456\n",
      "documentary: 4.418742814781707\n",
      "drama: 1.7613061445985498\n",
      "fantasy: 3.470412729162935\n",
      "film-noir: 5.62789697784964\n",
      "horror: 3.234735441701469\n",
      "imax: 4.961067105607069\n",
      "musical: 4.395753296557008\n",
      "mystery: 3.663603958193794\n",
      "romance: 2.7772655486029896\n",
      "sci-fi: 3.228821763911421\n",
      "thriller: 2.477272184671759\n",
      "war: 4.190958883910994\n",
      "western: 5.022942509325156\n"
     ]
    }
   ],
   "source": [
    "# Assuming you have these from your TF-IDF Vectorizer\n",
    "idf_scores = vectorizer.idf_\n",
    "genre_names = sorted(vectorizer.vocabulary_, key=vectorizer.vocabulary_.get)\n",
    "\n",
    "# Print each genre with its corresponding IDF score\n",
    "for genre, score in zip(genre_names, idf_scores):\n",
    "    print(f\"{genre}: {score}\")"
   ]
  },
  {
   "cell_type": "code",
   "execution_count": 220,
   "metadata": {},
   "outputs": [
    {
     "name": "stdout",
     "output_type": "stream",
     "text": [
      "Sparsity of TF-IDF Matrix: 0.83 %\n"
     ]
    }
   ],
   "source": [
    "sparsity = 1.0 - feature_matrix.nnz / \\\n",
    "    (feature_matrix.shape[0] * genres_matrix.shape[1])\n",
    "\n",
    "sparsity_rounded = round(sparsity, 2)\n",
    "print(\"Sparsity of TF-IDF Matrix:\", sparsity_rounded, \"%\")"
   ]
  },
  {
   "cell_type": "code",
   "execution_count": 224,
   "metadata": {},
   "outputs": [],
   "source": [
    "recommendations = Recommender(df_filtered_movies, 325, knn_model=knn_model, matrix=feature_matrix)"
   ]
  },
  {
   "cell_type": "code",
   "execution_count": 225,
   "metadata": {},
   "outputs": [
    {
     "data": {
      "text/html": [
       "<div>\n",
       "<style scoped>\n",
       "    .dataframe tbody tr th:only-of-type {\n",
       "        vertical-align: middle;\n",
       "    }\n",
       "\n",
       "    .dataframe tbody tr th {\n",
       "        vertical-align: top;\n",
       "    }\n",
       "\n",
       "    .dataframe thead th {\n",
       "        text-align: right;\n",
       "    }\n",
       "</style>\n",
       "<table border=\"1\" class=\"dataframe\">\n",
       "  <thead>\n",
       "    <tr style=\"text-align: right;\">\n",
       "      <th></th>\n",
       "      <th>title</th>\n",
       "      <th>genres</th>\n",
       "      <th>bayesian_avg</th>\n",
       "      <th>reviews</th>\n",
       "    </tr>\n",
       "  </thead>\n",
       "  <tbody>\n",
       "    <tr>\n",
       "      <th>7009</th>\n",
       "      <td>Trainwreck (2015)</td>\n",
       "      <td>[comedy, romance]</td>\n",
       "      <td>3.2</td>\n",
       "      <td>2014</td>\n",
       "    </tr>\n",
       "    <tr>\n",
       "      <th>2974</th>\n",
       "      <td>Someone Like You (2001)</td>\n",
       "      <td>[comedy, romance]</td>\n",
       "      <td>3.2</td>\n",
       "      <td>1352</td>\n",
       "    </tr>\n",
       "    <tr>\n",
       "      <th>198</th>\n",
       "      <td>Forget Paris (1995)</td>\n",
       "      <td>[comedy, romance]</td>\n",
       "      <td>3.2</td>\n",
       "      <td>6825</td>\n",
       "    </tr>\n",
       "    <tr>\n",
       "      <th>6193</th>\n",
       "      <td>No Strings Attached (2011)</td>\n",
       "      <td>[comedy, romance]</td>\n",
       "      <td>3.2</td>\n",
       "      <td>3095</td>\n",
       "    </tr>\n",
       "    <tr>\n",
       "      <th>4918</th>\n",
       "      <td>Guess Who (2005)</td>\n",
       "      <td>[comedy, romance]</td>\n",
       "      <td>3.2</td>\n",
       "      <td>895</td>\n",
       "    </tr>\n",
       "    <tr>\n",
       "      <th>4622</th>\n",
       "      <td>Princess Diaries 2: Royal Engagement, The (2004)</td>\n",
       "      <td>[comedy, romance]</td>\n",
       "      <td>3.2</td>\n",
       "      <td>2481</td>\n",
       "    </tr>\n",
       "  </tbody>\n",
       "</table>\n",
       "</div>"
      ],
      "text/plain": [
       "                                                 title             genres  \\\n",
       "7009                                 Trainwreck (2015)  [comedy, romance]   \n",
       "2974                           Someone Like You (2001)  [comedy, romance]   \n",
       "198                                Forget Paris (1995)  [comedy, romance]   \n",
       "6193                        No Strings Attached (2011)  [comedy, romance]   \n",
       "4918                                  Guess Who (2005)  [comedy, romance]   \n",
       "4622  Princess Diaries 2: Royal Engagement, The (2004)  [comedy, romance]   \n",
       "\n",
       "      bayesian_avg  reviews  \n",
       "7009           3.2     2014  \n",
       "2974           3.2     1352  \n",
       "198            3.2     6825  \n",
       "6193           3.2     3095  \n",
       "4918           3.2      895  \n",
       "4622           3.2     2481  "
      ]
     },
     "execution_count": 225,
     "metadata": {},
     "output_type": "execute_result"
    }
   ],
   "source": [
    "recommendations"
   ]
  },
  {
   "cell_type": "code",
   "execution_count": null,
   "metadata": {},
   "outputs": [],
   "source": []
  }
 ],
 "metadata": {
  "kernelspec": {
   "display_name": "venv",
   "language": "python",
   "name": "python3"
  },
  "language_info": {
   "codemirror_mode": {
    "name": "ipython",
    "version": 3
   },
   "file_extension": ".py",
   "mimetype": "text/x-python",
   "name": "python",
   "nbconvert_exporter": "python",
   "pygments_lexer": "ipython3",
   "version": "3.10.0"
  }
 },
 "nbformat": 4,
 "nbformat_minor": 2
}
