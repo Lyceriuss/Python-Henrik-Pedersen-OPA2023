{
 "cells": [
  {
   "cell_type": "markdown",
   "metadata": {},
   "source": [
    "# OOP Polymorphism and inheritance"
   ]
  },
  {
   "cell_type": "code",
   "execution_count": 3,
   "metadata": {},
   "outputs": [
    {
     "data": {
      "text/plain": [
       "OldCoinStash(owner='Ragnar')"
      ]
     },
     "execution_count": 3,
     "metadata": {},
     "output_type": "execute_result"
    }
   ],
   "source": [
    "from helper_modules.oldcoins import OldCoinsStash\n",
    "\n",
    "OldCoinsStash(\"Ragnar\")"
   ]
  },
  {
   "cell_type": "code",
   "execution_count": 4,
   "metadata": {},
   "outputs": [
    {
     "name": "stdout",
     "output_type": "stream",
     "text": [
      "Person: Henrik says hi\n"
     ]
    }
   ],
   "source": [
    "from numbers import Number\n",
    "\n",
    "class Person :\n",
    "    \"\"\"Base class with generic methods and attributes shared by all subclasses\"\"\"\n",
    "    \n",
    "    def __init__(self,name: str, age: int) ->None:\n",
    "        self.age = age\n",
    "        self.name = name\n",
    "        \n",
    "    @property\n",
    "    def age(self) -> int:\n",
    "        return self._age\n",
    "    \n",
    "    @age.setter\n",
    "    def age(self, value: Number)->None:\n",
    "        if not isinstance(value,Number):\n",
    "            raise TypeError(f\"Age must be a number not {type(value)}\")\n",
    "\n",
    "        self._age = value\n",
    "        \n",
    "    def say_hi(self) -> None:\n",
    "        print(f\"Person: {self.name} says hi\")\n",
    "\n",
    "p1 = Person(\"Henrik\", 32)\n",
    "p1.say_hi()\n",
    "        \n",
    "  "
   ]
  },
  {
   "cell_type": "code",
   "execution_count": 5,
   "metadata": {},
   "outputs": [
    {
     "name": "stdout",
     "output_type": "stream",
     "text": [
      "student Bella talks Python\n",
      "Age must be a number not <class 'str'>\n"
     ]
    }
   ],
   "source": [
    "class Student(Person):\n",
    "    \"\"\"A student is a person that knows a language\"\"\"\n",
    "    \n",
    "    def __init__(self, name: str, age: int, language: str) -> None:\n",
    "        super().__init__(name, age)\n",
    "        \n",
    "        self.language = language\n",
    "    \n",
    "    def say_hi(self) ->None:\n",
    "        print(f\"student {self.name} talks {self.language}\")\n",
    "        \n",
    "s1 = Student(\"Bella\",2,\"Python\")\n",
    "s1.say_hi()\n",
    "\n",
    "try:\n",
    "    s2 = Student(\"Hanna\", \"Twenty-two\",\"C#\")\n",
    "except TypeError as err:\n",
    "    print(err)"
   ]
  },
  {
   "cell_type": "code",
   "execution_count": 9,
   "metadata": {},
   "outputs": [
    {
     "name": "stdout",
     "output_type": "stream",
     "text": [
      "Person: Bjorn Ironsight says hi\n",
      "Stash:<bound method OldCoinsStash.check_balance of OldCoinStash(owner='Bjorn Ironsight')>\n"
     ]
    }
   ],
   "source": [
    "class Viking(Person):\n",
    "    \"\"\"Viking is a person, Viking has an OldCoinStash\"\"\"\n",
    "    def __init__(self, name: str, age: int) -> None:\n",
    "        super().__init__(name, age)\n",
    "        \n",
    "        #Composition - \"Has a \" relation while inheritance \"is a \" relation\n",
    "        self.stash = OldCoinsStash(name)\n",
    "        \n",
    "v1 = Viking(\"Bjorn Ironsight\", 36)\n",
    "v1.say_hi()\n",
    "\n",
    "print(f\"Stash:{v1.stash}\")\n",
    "        "
   ]
  },
  {
   "cell_type": "code",
   "execution_count": 10,
   "metadata": {},
   "outputs": [
    {
     "name": "stdout",
     "output_type": "stream",
     "text": [
      "Person: Henrik says hi\n",
      "student Bella talks Python\n",
      "Person: Bjorn Ironsight says hi\n"
     ]
    }
   ],
   "source": [
    "people = (p1,s1,v1)\n",
    "\n",
    "#polymorphism\n",
    "for person in people:\n",
    "    person.say_hi()\n"
   ]
  },
  {
   "cell_type": "code",
   "execution_count": null,
   "metadata": {},
   "outputs": [],
   "source": []
  }
 ],
 "metadata": {
  "kernelspec": {
   "display_name": "venv",
   "language": "python",
   "name": "python3"
  },
  "language_info": {
   "codemirror_mode": {
    "name": "ipython",
    "version": 3
   },
   "file_extension": ".py",
   "mimetype": "text/x-python",
   "name": "python",
   "nbconvert_exporter": "python",
   "pygments_lexer": "ipython3",
   "version": "3.10.0"
  }
 },
 "nbformat": 4,
 "nbformat_minor": 2
}
