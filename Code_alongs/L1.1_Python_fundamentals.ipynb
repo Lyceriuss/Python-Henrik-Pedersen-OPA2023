{
 "cells": [
  {
   "cell_type": "markdown",
   "metadata": {},
   "source": [
    "#Python Fundamentals continued"
   ]
  },
  {
   "cell_type": "markdown",
   "metadata": {},
   "source": [
    "#If -statements\n",
    "- if\n",
    "- if - else\n",
    "- if - elif -elif - else\n",
    "- Oneline if-statements"
   ]
  },
  {
   "cell_type": "code",
   "execution_count": 2,
   "metadata": {},
   "outputs": [
    {
     "name": "stdout",
     "output_type": "stream",
     "text": [
      "accuracy level is 0.7, which is a moderate performance\n"
     ]
    }
   ],
   "source": [
    "accuracy = .7\n",
    "\n",
    "if accuracy > .9:\n",
    "    model_perfromance = \"Good\"\n",
    "elif accuracy > .5:\n",
    "    model_perfromance = \"Moderate\"\n",
    "else:\n",
    "    model_perfromance = \"bad\"\n",
    "\n",
    "print(f\"accuracy level is {accuracy}, which is a {model_perfromance.lower()} performance\")\n"
   ]
  },
  {
   "cell_type": "code",
   "execution_count": 3,
   "metadata": {},
   "outputs": [
    {
     "data": {
      "text/plain": [
       "'Not good'"
      ]
     },
     "execution_count": 3,
     "metadata": {},
     "output_type": "execute_result"
    }
   ],
   "source": [
    "performance = \"good\" if accuracy >.9 else \"Not good\"\n",
    "performance"
   ]
  },
  {
   "cell_type": "code",
   "execution_count": null,
   "metadata": {},
   "outputs": [],
   "source": []
  }
 ],
 "metadata": {
  "kernelspec": {
   "display_name": "venv",
   "language": "python",
   "name": "python3"
  },
  "language_info": {
   "codemirror_mode": {
    "name": "ipython",
    "version": 3
   },
   "file_extension": ".py",
   "mimetype": "text/x-python",
   "name": "python",
   "nbconvert_exporter": "python",
   "pygments_lexer": "ipython3",
   "version": "3.10.0"
  }
 },
 "nbformat": 4,
 "nbformat_minor": 2
}
