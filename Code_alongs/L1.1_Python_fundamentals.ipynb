{
 "cells": [
  {
   "cell_type": "markdown",
   "metadata": {},
   "source": [
    "#Python Fundamentals continued"
   ]
  },
  {
   "cell_type": "markdown",
   "metadata": {},
   "source": [
    "#If -statements\n",
    "- if\n",
    "- if - else\n",
    "- if - elif -elif - else\n",
    "- Oneline if-statements"
   ]
  },
  {
   "cell_type": "code",
   "execution_count": 2,
   "metadata": {},
   "outputs": [
    {
     "name": "stdout",
     "output_type": "stream",
     "text": [
      "accuracy level is 0.7, which is a moderate performance\n"
     ]
    }
   ],
   "source": [
    "accuracy = .7\n",
    "\n",
    "if accuracy > .9:\n",
    "    model_perfromance = \"Good\"\n",
    "elif accuracy > .5:\n",
    "    model_perfromance = \"Moderate\"\n",
    "else:\n",
    "    model_perfromance = \"bad\"\n",
    "\n",
    "print(f\"accuracy level is {accuracy}, which is a {model_perfromance.lower()} performance\")\n"
   ]
  },
  {
   "cell_type": "code",
   "execution_count": 3,
   "metadata": {},
   "outputs": [
    {
     "data": {
      "text/plain": [
       "'Not good'"
      ]
     },
     "execution_count": 3,
     "metadata": {},
     "output_type": "execute_result"
    }
   ],
   "source": [
    "performance = \"good\" if accuracy >.9 else \"Not good\"\n",
    "performance"
   ]
  },
  {
   "cell_type": "markdown",
   "metadata": {},
   "source": [
    "# while statement\n",
    "- \"if-loop\"\n",
    "\n",
    "## Exempel\n",
    "There is an oil leakage causing the bird population in an island to 1/2 in each year. From start there were 80000 birds, how many years does it take for it to have 1/10 remaining?"
   ]
  },
  {
   "cell_type": "markdown",
   "metadata": {},
   "source": []
  },
  {
   "cell_type": "code",
   "execution_count": 10,
   "metadata": {},
   "outputs": [
    {
     "name": "stdout",
     "output_type": "stream",
     "text": [
      "4\n",
      "5000.0\n"
     ]
    }
   ],
   "source": [
    "OGValue = 80000\n",
    "value = OGValue\n",
    "year =0\n",
    "\n",
    "while value>OGValue/10:\n",
    "    value/=2\n",
    "    year+=1\n",
    "    \n",
    "print(year)\n",
    "print(value)"
   ]
  },
  {
   "cell_type": "markdown",
   "metadata": {},
   "source": [
    "## For statements"
   ]
  },
  {
   "cell_type": "code",
   "execution_count": 11,
   "metadata": {},
   "outputs": [
    {
     "name": "stdout",
     "output_type": "stream",
     "text": [
      "K means\n",
      "PCA\n",
      "GMM\n"
     ]
    }
   ],
   "source": [
    "unsuppervised_abbreviations = [\"K means\", \"PCA\", \"GMM\"]\n",
    "unsupervised_algorithms = [\"K means cluster\", \"Principal component analysis\", \"Gaussian Mixture Models\"]\n",
    "\n",
    "for abbreviation in unsuppervised_abbreviations:\n",
    "    print(abbreviation)"
   ]
  },
  {
   "cell_type": "code",
   "execution_count": 12,
   "metadata": {},
   "outputs": [
    {
     "name": "stdout",
     "output_type": "stream",
     "text": [
      "0 K means\n",
      "1 PCA\n",
      "2 GMM\n"
     ]
    }
   ],
   "source": [
    "for i, abbreviation in enumerate(unsuppervised_abbreviations):\n",
    "    print(i,abbreviation)\n",
    "    "
   ]
  },
  {
   "cell_type": "code",
   "execution_count": 13,
   "metadata": {},
   "outputs": [
    {
     "name": "stdout",
     "output_type": "stream",
     "text": [
      "K means:K means cluster\n",
      "PCA:Principal component analysis\n",
      "GMM:Gaussian Mixture Models\n"
     ]
    }
   ],
   "source": [
    "for abbreviation, full_name in zip(unsuppervised_abbreviations,unsupervised_algorithms):\n",
    "    print(f\"{abbreviation}:{full_name}\")"
   ]
  },
  {
   "cell_type": "code",
   "execution_count": 14,
   "metadata": {},
   "outputs": [
    {
     "name": "stdout",
     "output_type": "stream",
     "text": [
      "0 hej\n",
      "1 hej\n",
      "2 hej\n",
      "3 hej\n",
      "4 hej\n"
     ]
    }
   ],
   "source": [
    "for i in range(5):\n",
    "    print(i,\"hej\")\n"
   ]
  },
  {
   "cell_type": "code",
   "execution_count": null,
   "metadata": {},
   "outputs": [],
   "source": []
  }
 ],
 "metadata": {
  "kernelspec": {
   "display_name": "venv",
   "language": "python",
   "name": "python3"
  },
  "language_info": {
   "codemirror_mode": {
    "name": "ipython",
    "version": 3
   },
   "file_extension": ".py",
   "mimetype": "text/x-python",
   "name": "python",
   "nbconvert_exporter": "python",
   "pygments_lexer": "ipython3",
   "version": "3.10.0"
  }
 },
 "nbformat": 4,
 "nbformat_minor": 2
}
