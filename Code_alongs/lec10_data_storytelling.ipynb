{
 "cells": [
  {
   "cell_type": "markdown",
   "metadata": {},
   "source": [
    "Code_along_data"
   ]
  },
  {
   "cell_type": "code",
   "execution_count": 1,
   "metadata": {},
   "outputs": [],
   "source": [
    "import pandas as pd\n",
    "\n",
    "df = pd.read_csv(\"lect10_data.csv\",skiprows=43)\n"
   ]
  },
  {
   "cell_type": "code",
   "execution_count": null,
   "metadata": {},
   "outputs": [],
   "source": []
  },
  {
   "cell_type": "code",
   "execution_count": 9,
   "metadata": {},
   "outputs": [
    {
     "name": "stdout",
     "output_type": "stream",
     "text": [
      "Number of tables found: 1\n"
     ]
    }
   ],
   "source": [
    "tables = pd.read_html(\n",
    "    \"https://www.worldometers.info/co2-emissions/co2-emissions-by-country/\", index_col=[0])\n",
    "df_country = tables[0]\n",
    "print(f\"Number of tables found: {len(tables)}\")"
   ]
  },
  {
   "cell_type": "code",
   "execution_count": 10,
   "metadata": {},
   "outputs": [
    {
     "name": "stdout",
     "output_type": "stream",
     "text": [
      "<class 'pandas.core.frame.DataFrame'>\n",
      "Index: 209 entries, 1 to 209\n",
      "Data columns (total 6 columns):\n",
      " #   Column                       Non-Null Count  Dtype  \n",
      "---  ------                       --------------  -----  \n",
      " 0   Country                      209 non-null    object \n",
      " 1   CO2 Emissions  (tons, 2016)  209 non-null    int64  \n",
      " 2   1 Year  Change               209 non-null    object \n",
      " 3   Population  (2016)           209 non-null    int64  \n",
      " 4   Per  capita                  209 non-null    float64\n",
      " 5   Share  of world              209 non-null    object \n",
      "dtypes: float64(1), int64(2), object(3)\n",
      "memory usage: 11.4+ KB\n"
     ]
    }
   ],
   "source": [
    "df_country.info()"
   ]
  },
  {
   "cell_type": "code",
   "execution_count": 11,
   "metadata": {},
   "outputs": [
    {
     "data": {
      "text/html": [
       "<div>\n",
       "<style scoped>\n",
       "    .dataframe tbody tr th:only-of-type {\n",
       "        vertical-align: middle;\n",
       "    }\n",
       "\n",
       "    .dataframe tbody tr th {\n",
       "        vertical-align: top;\n",
       "    }\n",
       "\n",
       "    .dataframe thead th {\n",
       "        text-align: right;\n",
       "    }\n",
       "</style>\n",
       "<table border=\"1\" class=\"dataframe\">\n",
       "  <thead>\n",
       "    <tr style=\"text-align: right;\">\n",
       "      <th></th>\n",
       "      <th>Country</th>\n",
       "      <th>CO2 Emissions  (tons, 2016)</th>\n",
       "      <th>1 Year  Change</th>\n",
       "      <th>Population  (2016)</th>\n",
       "      <th>Per  capita</th>\n",
       "      <th>World percentage</th>\n",
       "    </tr>\n",
       "    <tr>\n",
       "      <th>#</th>\n",
       "      <th></th>\n",
       "      <th></th>\n",
       "      <th></th>\n",
       "      <th></th>\n",
       "      <th></th>\n",
       "      <th></th>\n",
       "    </tr>\n",
       "  </thead>\n",
       "  <tbody>\n",
       "    <tr>\n",
       "      <th>1</th>\n",
       "      <td>China</td>\n",
       "      <td>10432751400</td>\n",
       "      <td>-0.28%</td>\n",
       "      <td>1401889681</td>\n",
       "      <td>7.44</td>\n",
       "      <td>29.18%</td>\n",
       "    </tr>\n",
       "    <tr>\n",
       "      <th>2</th>\n",
       "      <td>United States</td>\n",
       "      <td>5011686600</td>\n",
       "      <td>-2.01%</td>\n",
       "      <td>327210198</td>\n",
       "      <td>15.32</td>\n",
       "      <td>14.02%</td>\n",
       "    </tr>\n",
       "    <tr>\n",
       "      <th>3</th>\n",
       "      <td>India</td>\n",
       "      <td>2533638100</td>\n",
       "      <td>4.71%</td>\n",
       "      <td>1338636340</td>\n",
       "      <td>1.89</td>\n",
       "      <td>7.09%</td>\n",
       "    </tr>\n",
       "    <tr>\n",
       "      <th>4</th>\n",
       "      <td>Russia</td>\n",
       "      <td>1661899300</td>\n",
       "      <td>-2.13%</td>\n",
       "      <td>145109157</td>\n",
       "      <td>11.45</td>\n",
       "      <td>4.65%</td>\n",
       "    </tr>\n",
       "    <tr>\n",
       "      <th>5</th>\n",
       "      <td>Japan</td>\n",
       "      <td>1239592060</td>\n",
       "      <td>-1.21%</td>\n",
       "      <td>126993857</td>\n",
       "      <td>9.76</td>\n",
       "      <td>3.47%</td>\n",
       "    </tr>\n",
       "  </tbody>\n",
       "</table>\n",
       "</div>"
      ],
      "text/plain": [
       "         Country  CO2 Emissions  (tons, 2016) 1 Year  Change  \\\n",
       "#                                                              \n",
       "1          China                  10432751400         -0.28%   \n",
       "2  United States                   5011686600         -2.01%   \n",
       "3          India                   2533638100          4.71%   \n",
       "4         Russia                   1661899300         -2.13%   \n",
       "5          Japan                   1239592060         -1.21%   \n",
       "\n",
       "   Population  (2016)  Per  capita World percentage  \n",
       "#                                                    \n",
       "1          1401889681         7.44           29.18%  \n",
       "2           327210198        15.32           14.02%  \n",
       "3          1338636340         1.89            7.09%  \n",
       "4           145109157        11.45            4.65%  \n",
       "5           126993857         9.76            3.47%  "
      ]
     },
     "execution_count": 11,
     "metadata": {},
     "output_type": "execute_result"
    }
   ],
   "source": [
    "df_country = df_country.rename({\"Share  of world\": \"World percentage\"}, axis=1)\n",
    "df_country.head()"
   ]
  },
  {
   "cell_type": "code",
   "execution_count": null,
   "metadata": {},
   "outputs": [],
   "source": []
  }
 ],
 "metadata": {
  "kernelspec": {
   "display_name": "venv",
   "language": "python",
   "name": "python3"
  },
  "language_info": {
   "codemirror_mode": {
    "name": "ipython",
    "version": 3
   },
   "file_extension": ".py",
   "mimetype": "text/x-python",
   "name": "python",
   "nbconvert_exporter": "python",
   "pygments_lexer": "ipython3",
   "version": "3.10.0"
  }
 },
 "nbformat": 4,
 "nbformat_minor": 2
}
