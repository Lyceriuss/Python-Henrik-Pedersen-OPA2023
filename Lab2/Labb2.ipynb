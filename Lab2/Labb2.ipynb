{
 "cells": [
  {
   "cell_type": "code",
   "execution_count": 33,
   "metadata": {},
   "outputs": [],
   "source": [
    "import pandas as pd\n",
    "\n",
    "dfR1 = pd.read_excel(\"Data/riket2023_åk9_np.xlsx\", skiprows=8)\n",
    "xlsx_file = pd.read_excel(\"Data/riket2023_åk9_np.xlsx\", sheet_name=None, skiprows=8)\n",
    "dfR1_eng = xlsx_file[\"Engelska\"]\n",
    "dfR1_mat = xlsx_file[\"Mattematik\"]\n",
    "dfR1_sve = xlsx_file[\"Svenska\"]\n",
    "dfR1_sve_and = xlsx_file[\"Svenska som andraspråk\"]"
   ]
  },
  {
   "cell_type": "code",
   "execution_count": 42,
   "metadata": {},
   "outputs": [
    {
     "name": "stdout",
     "output_type": "stream",
     "text": [
      "   Plats    Huvudman Totalt (A-F) Flickor (A-F) Pojkar (A-F) Totalt (A-E)  \\\n",
      "0  Riket    Samtliga        14092          6447         7645         77.7   \n",
      "1  Riket    Kommunal        11963          5495         6468         75.9   \n",
      "2  Riket     Enskild         2122           949         1173         87.7   \n",
      "3  Riket  Skolverket           ..            ..           ..           ..   \n",
      "\n",
      "  Flickor (A-E) Pojkar (A-E) Totalt (Poäng) Flickor (Poäng) Pojkar (Poäng)  \n",
      "0          81.6         74.3            9.4            10.2            8.7  \n",
      "1            80         72.4              9             9.9            8.3  \n",
      "2          90.9         85.2           11.1              12           10.4  \n",
      "3            ..           ..             ..              ..             ..  \n"
     ]
    }
   ],
   "source": [
    "def rename_columns(df, rename_dict):\n",
    "    return df.rename(columns=rename_dict)\n",
    "\n",
    "rename_dict = {\n",
    "\n",
    "    \"Riket\": \"Plats\",\n",
    "    \"Typ av huvudman\": \"Huvudman\",\n",
    "    \"Totalt\": \"Totalt (A-F)\",\n",
    "    \"Flickor\": \"Flickor (A-F)\",\n",
    "    \"Pojkar\": \"Pojkar (A-F)\",\n",
    "    \"Totalt \": \"Totalt (A-E)\",\n",
    "    \"Flickor \": \"Flickor (A-E)\",\n",
    "    \"Pojkar \": \"Pojkar (A-E)\",\n",
    "    \"Totalt  \": \"Totalt (Poäng)\",\n",
    "    \"Flickor  \": \"Flickor (Poäng)\",\n",
    "    \"Pojkar  \": \"Pojkar (Poäng)\",\n",
    "}\n",
    "\n",
    "dfR1_eng = rename_columns(xlsx_file[\"Engelska\"], rename_dict)\n",
    "dfR1_mat = rename_columns(xlsx_file[\"Matematik\"], rename_dict) # Check the sheet name's spelling\n",
    "dfR1_sve = rename_columns(xlsx_file[\"Svenska\"], rename_dict)\n",
    "dfR1_sve_and = rename_columns(xlsx_file[\"Svenska som andraspråk\"], rename_dict)\n",
    "\n",
    "print(dfR1_sve_and.head())"
   ]
  },
  {
   "cell_type": "code",
   "execution_count": 38,
   "metadata": {},
   "outputs": [],
   "source": [
    "import dataframe_image as dfi\n",
    "\n",
    "# Save the styled DataFrame to a PNG file\n",
    "dfi.export(dfR1_eng, \"Visualiseringar/A)-Statistic.png\")"
   ]
  },
  {
   "cell_type": "code",
   "execution_count": 43,
   "metadata": {},
   "outputs": [
    {
     "name": "stdout",
     "output_type": "stream",
     "text": [
      "Boys with passing grande: 5825\n",
      "Girls with passing grande: 5798\n"
     ]
    }
   ],
   "source": [
    "#Create the variables\n",
    "\n",
    "#B)\n",
    "\n",
    "TotalF = dfR1_mat[\"Flickor (A-F)\"][0]\n",
    "TotalP = dfR1_mat[\"Pojkar (A-F)\"][0]\n",
    "\n",
    "PassingGradeF = dfR1_mat[\"Flickor (A-E)\"][0]\n",
    "PassingGradeP = dfR1_mat[\"Pojkar (A-E)\"][0]\n",
    "\n",
    "#Create the function\n",
    "#I wantted to round it up without importing the math function since it is too much. G\n",
    "def calculate_percentage(total, passinggrade):\n",
    "    temp = ((total * ((100 - passinggrade) / 100)) + 0.99999) // 1\n",
    "    return int(temp)\n",
    "\n",
    "# It now shows the math sheet.\n",
    "\n",
    "print(\"Boys with passing grande:\",(calculate_percentage(TotalF,PassingGradeF)))\n",
    "print(\"Girls with passing grande:\",(calculate_percentage(TotalP, PassingGradeP)))"
   ]
  },
  {
   "cell_type": "code",
   "execution_count": null,
   "metadata": {},
   "outputs": [],
   "source": []
  }
 ],
 "metadata": {
  "kernelspec": {
   "display_name": "venv",
   "language": "python",
   "name": "python3"
  },
  "language_info": {
   "codemirror_mode": {
    "name": "ipython",
    "version": 3
   },
   "file_extension": ".py",
   "mimetype": "text/x-python",
   "name": "python",
   "nbconvert_exporter": "python",
   "pygments_lexer": "ipython3",
   "version": "3.10.0"
  }
 },
 "nbformat": 4,
 "nbformat_minor": 2
}
