{
 "cells": [
  {
   "cell_type": "markdown",
   "metadata": {},
   "source": [
    "## Count numbers (*)\n",
    "Use a while statement to count from -10 to 10 with one increment."
   ]
  },
  {
   "cell_type": "code",
   "execution_count": 1,
   "metadata": {},
   "outputs": [
    {
     "name": "stdout",
     "output_type": "stream",
     "text": [
      "-10 -9 -8 -7 -6 -5 -4 -3 -2 -1 0 1 2 3 4 5 6 7 8 9 10 "
     ]
    }
   ],
   "source": [
    "counter = -10\n",
    "\n",
    "while counter < 11:\n",
    "    print(f\"{counter}\", end=\" \")\n",
    "    counter+=1"
   ]
  },
  {
   "cell_type": "markdown",
   "metadata": {},
   "source": [
    "## Arithmetic sum (*)\n",
    "Use a while statement to compute the following sums:\n",
    "1+2+3\n",
    "1+3+5"
   ]
  },
  {
   "cell_type": "code",
   "execution_count": 5,
   "metadata": {},
   "outputs": [
    {
     "name": "stdout",
     "output_type": "stream",
     "text": [
      "0\n",
      "1\n",
      "1\n",
      "3\n",
      "3\n",
      "6\n",
      "Sum1=4950 and Sum2=5050\n"
     ]
    }
   ],
   "source": [
    "sum1=0\n",
    "sum2=0\n",
    "\n",
    "for i in range(100):\n",
    "    sum1+=i\n",
    "    sum2+=i+1\n",
    "    if i <3:    #Just to check\n",
    "        print(sum1)\n",
    "        print(sum2)\n",
    "\n",
    "print(f\"Sum1={sum1} and Sum2={sum2}\")"
   ]
  },
  {
   "cell_type": "markdown",
   "metadata": {},
   "source": [
    "## Guess number game (*)"
   ]
  },
  {
   "cell_type": "code",
   "execution_count": 7,
   "metadata": {},
   "outputs": [
    {
     "name": "stdout",
     "output_type": "stream",
     "text": [
      "Guess the number between 1 and 100.\n",
      "38\n",
      "Too low\n",
      "Correct!\n"
     ]
    }
   ],
   "source": [
    "import random\n",
    "\n",
    "Randy = random.randint(1, 101)\n",
    "user_guess=0\n",
    "\n",
    "print(\"Guess the number between 1 and 100.\")\n",
    "print(Randy)    #For testing\n",
    "while user_guess!=Randy:\n",
    "    try:\n",
    "        user_guess = int(input(\"Guess!\"))\n",
    "        \n",
    "        if user_guess>Randy:\n",
    "            print(\"Too high\")\n",
    "        elif user_guess<Randy:\n",
    "            print(\"Too low\")\n",
    "        else:\n",
    "            print(\"Correct!\")\n",
    "            break\n",
    "    except ValueError:\n",
    "        print(\"Insert number between 1-100\")"
   ]
  },
  {
   "cell_type": "markdown",
   "metadata": {},
   "source": [
    "## Multiplication game (*) \n",
    "a)   Create a multiplication game following this flow chart:\n",
    "\n",
    "b)   Add a menu for choosing difficulty level of the game\n",
    "\n",
    "c)   Feel free to extend this program with features of your choice."
   ]
  },
  {
   "cell_type": "code",
   "execution_count": 2,
   "metadata": {},
   "outputs": [
    {
     "name": "stdout",
     "output_type": "stream",
     "text": [
      "Difficulty 1.Easy   2.Normal  3.Hard  \n",
      "Difficulty choosen!\n",
      "Generated multiplication:10*10\n",
      "That is correct!\n",
      "Final score:1\n"
     ]
    }
   ],
   "source": [
    "import random\n",
    "\n",
    "scoreCounter= 0\n",
    "difficultyChoosen=False\n",
    "gameIsRunning=True\n",
    "\n",
    "\n",
    "def randomDifficulty(difficulty):\n",
    "    if difficulty == 1:\n",
    "        return random.randint(1, 11)\n",
    "    elif difficulty == 2:\n",
    "        return random.randint(10, 21)\n",
    "    elif difficulty == 3:\n",
    "        return random.randint(1, 100)\n",
    "\n",
    "while gameIsRunning==True:\n",
    "\n",
    "    while difficultyChoosen==False:\n",
    "        print(\"Difficulty 1.Easy   2.Normal  3.Hard  \")\n",
    "        difficulty = int(input(\"Pick difficulty 1-3\"))\n",
    "        if difficulty >=1 and difficulty <=3:\n",
    "            print(\"Difficulty choosen!\")\n",
    "            difficultyChoosen=True\n",
    "            break\n",
    "        else:\n",
    "            print(\"Incorrect input!\")\n",
    "\n",
    "\n",
    "    X = randomDifficulty(difficulty)\n",
    "    Y = randomDifficulty(difficulty)\n",
    "\n",
    "    CorrectAnswer = X*Y\n",
    "\n",
    "    print(f\"Generated multiplication:{X}*{Y}\")\n",
    "    UserAnswer = int(input(\"Enter your answer:\"))\n",
    "\n",
    "    if UserAnswer==CorrectAnswer:\n",
    "        print(\"That is correct!\")\n",
    "        scoreCounter=+1*difficulty\n",
    "    else:\n",
    "        print(f\"That is incorrect! The correct answer was:{CorrectAnswer}\")    \n",
    "    ReplayCheck = input(\"Play again? Y/N\").upper()\n",
    "    if ReplayCheck==\"N\":\n",
    "        gameIsRunning==False\n",
    "        print(f\"Final score:{scoreCounter}\")\n",
    "        break\n",
    "    elif ReplayCheck==\"Y\":\n",
    "        print(\"Lets keep going!\")"
   ]
  },
  {
   "cell_type": "markdown",
   "metadata": {},
   "source": [
    "## Check convergence (**)\n",
    "Use a while statement to compute the following sums:"
   ]
  },
  {
   "cell_type": "code",
   "execution_count": 15,
   "metadata": {},
   "outputs": [
    {
     "name": "stdout",
     "output_type": "stream",
     "text": [
      "Sum of series a) converges to: 2.0\n",
      "Sum of series b) converges to: 0.21485183654005194\n"
     ]
    }
   ],
   "source": [
    "#Sum_a 1 + 1/2 + 1/4 + 1/8\n",
    "\n",
    "#Sum_b 1 - 1/3 + 1/5 - 1/7\n",
    "\n",
    "sum_a = 0\n",
    "term = 1\n",
    "n = 0\n",
    "while n < 100: \n",
    "    sum_a += term\n",
    "    term /= 2\n",
    "    n += 1\n",
    "\n",
    "\n",
    "sum_b = 0\n",
    "n = 1\n",
    "while n < 1000:  \n",
    "    sum_b += ((-1)**(n+1)) / (2*n + 1)\n",
    "    n += 1\n",
    "\n",
    "print(f\"Sum of series a) converges to: {sum_a}\")\n",
    "print(f\"Sum of series b) converges to: {sum_b}\")\n"
   ]
  },
  {
   "cell_type": "code",
   "execution_count": null,
   "metadata": {},
   "outputs": [],
   "source": []
  }
 ],
 "metadata": {
  "kernelspec": {
   "display_name": "venv",
   "language": "python",
   "name": "python3"
  },
  "language_info": {
   "codemirror_mode": {
    "name": "ipython",
    "version": 3
   },
   "file_extension": ".py",
   "mimetype": "text/x-python",
   "name": "python",
   "nbconvert_exporter": "python",
   "pygments_lexer": "ipython3",
   "version": "3.10.0"
  }
 },
 "nbformat": 4,
 "nbformat_minor": 2
}
