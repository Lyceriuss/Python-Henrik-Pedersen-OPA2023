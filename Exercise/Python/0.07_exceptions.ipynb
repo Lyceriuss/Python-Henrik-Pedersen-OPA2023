{
 "cells": [
  {
   "cell_type": "markdown",
   "metadata": {},
   "source": [
    "# Exercise - exceptions and error handling"
   ]
  },
  {
   "cell_type": "markdown",
   "metadata": {},
   "source": [
    "## Error 1 \n",
    "## Find and fix errors (*)\n",
    "Find the errors in this code to compute the distance between the point \n",
    "and the origin in a cartesian coordinate system.\n",
    "\n",
    "\n",
    "impor numpy as np\n",
    "\n",
    "def distance(x,y)\n",
    "    reurn np.sqrt(x+y)\n",
    "\n",
    "print(distance([0.5, 0.5]))\n"
   ]
  },
  {
   "cell_type": "markdown",
   "metadata": {},
   "source": [
    "## My Codereview\n",
    "\n",
    "Spellin-Errors = [import, def distance(x,y): ,return np.sqrt(x+y) is not accurate for distance and euclidian should be used]\n",
    "#Operator errors Print(distance((0.5, 0.5),(Required)))\n",
    "#Logic error, why sqrt for (x+y)?\n",
    "\n",
    "## ChatGPT4.0 Review of my Codereview for Error 1\n",
    "\n",
    "Additional Comments\n",
    "- Questioning sqrt Use: You questioned the use of sqrt for (x+y), which reflects an understanding that the formula doesn't correctly compute distance between two points. This shows good analytical thinking.\n",
    "Given the corrected analysis and additional insights:\n",
    "\n",
    "- Attention to Detail: You've shown improvement in catching both spelling and syntax errors, crucial for code execution.\n",
    "- Understanding of Python Syntax and Functionality: Identifying the missing colon and the incorrect function call demonstrates growing familiarity with Python syntax.\n",
    "- Logical Analysis and Problem-Solving Skills: Recognizing the incorrect application of the distance formula and suggesting the correct Euclidean distance calculation shows an excellent grasp of the logic involved.\n",
    "\n",
    "## Score: 8/10\n",
    "This score reflects your ability to identify key errors and understand the logical flaws in the code snippet. Your analysis shows a good level of attention to detail and understanding of basic Python syntax, as well as the ability to question and identify logical errors in code logic. Keep practicing, and your skills will continue to develop!\n",
    "\n"
   ]
  },
  {
   "cell_type": "code",
   "execution_count": 5,
   "metadata": {},
   "outputs": [],
   "source": [
    "def Eucalyptus(num1, num2):\n",
    "\n",
    "    return ((num1[0]-num2[0])**2+(num1[1]-num2[1])**2)**0.5\n"
   ]
  },
  {
   "cell_type": "markdown",
   "metadata": {},
   "source": [
    "## Error 2\n",
    "Find the errors in this code. Just change the function, don't touch the test program."
   ]
  },
  {
   "cell_type": "markdown",
   "metadata": {},
   "source": [
    "Find the errors in this code. Just change the function, don't touch the test program.\n",
    "\n",
    "def is_fourdigit(number):\n",
    "    if number//1000 < 10\n",
    "        return true\n",
    "    else \n",
    "        return false"
   ]
  },
  {
   "cell_type": "markdown",
   "metadata": {},
   "source": [
    "## My Code Review\n",
    "\n",
    "def is_fourdigit(number):\n",
    "    if number//1000 < 10\n",
    "        return true\n",
    "    else \n",
    "        return false\n",
    "\n",
    "\n",
    "- The Bool return true needs to be Capitlized in Python.\n",
    "- if statements need to end in :\n",
    "- It should accurate show whether or not a number is a fourdigit, unless it is a edge case such as 999\n",
    "\n",
    "## ChatGPT 4.0 \n",
    "\n",
    "- Handling of Negative Numbers and Full Range: While not mentioned, considering the full range of four-digit numbers (1000 to 9999, inclusive) and how negative numbers are handled (using abs(number)) would further strengthen the review. These considerations ensure the function works correctly for all integers.\n",
    "\n",
    "- Improving the Logical Check: To clarify, a robust check for a four-digit number should verify that the absolute value of the number is between 1000 and 9999, inclusive. This ensures that both positive and negative four-digit numbers are accurately identified, and numbers like 999 are correctly not identified as four-digit.\n",
    "\n",
    "## Score: 7.5/10\n",
    "\n",
    "- Your review effectively points out critical syntax errors and starts to engage with the logical aspects of the function's intended behavior. To further improve, consider extending your analysis to include a wider range of edge cases and the precise logic required to handle all inputs correctly. Keep exploring and questioning how functions behave under various conditions to deepen your understanding.\n"
   ]
  },
  {
   "cell_type": "markdown",
   "metadata": {},
   "source": []
  },
  {
   "cell_type": "code",
   "execution_count": 19,
   "metadata": {},
   "outputs": [
    {
     "name": "stdout",
     "output_type": "stream",
     "text": [
      "231 is not four-digit\n",
      "3124 is four-digit\n",
      "-4124 is four-digit\n",
      "-1000 is four-digit\n",
      "-999 is not four-digit\n",
      "1001 is four-digit\n",
      "10000 is not four-digit\n",
      "-10000 is not four-digit\n",
      "999 is not four-digit\n"
     ]
    }
   ],
   "source": [
    "def is_fourdigit(number):\n",
    "    if 1000 <= abs(number) < 10000:\n",
    "        return True\n",
    "    else:\n",
    "        return False\n",
    "    \n",
    "# test program\n",
    "test_numbers = [231, 3124, -4124, -1000,-999, 1001, 10000, -10000, 999]\n",
    "\n",
    "for number in test_numbers:\n",
    "    if is_fourdigit(number):\n",
    "        print(f\"{number} is four-digit\")\n",
    "    else:\n",
    "        print(f\"{number} is not four-digit\")"
   ]
  },
  {
   "cell_type": "markdown",
   "metadata": {},
   "source": [
    "## Error 3\n",
    "## Tram (*)\n",
    "Kokchun is a clumpsy computer user that doesn't take trams too often. Write a program to prompt the user for:\n",
    "\n",
    "number of times he/she wants to take tram in one month\n",
    "cost for one ticket\n",
    "cost for monthly card\n",
    "The program should calculate if it's worth for him to buy monthly card or not. Make the program user friendly with clear error messages and ask again in case of input errors."
   ]
  },
  {
   "cell_type": "code",
   "execution_count": 11,
   "metadata": {},
   "outputs": [
    {
     "name": "stdout",
     "output_type": "stream",
     "text": [
      "It is worth it for one zone and you gain: 400 kr from a subscription!\n",
      "It is worth it for traveling more than one zone! and you gain: 1200 kr from a subscription!\n"
     ]
    }
   ],
   "source": [
    "def PublicTransitValueGuide():\n",
    "    \n",
    "    ZoneCost = 35\n",
    "    ZoneCostCombo = 55\n",
    "    MontlySubscription = 1000\n",
    "    \n",
    "    while True:\n",
    "        try:\n",
    "            userInput = input(\"How many times are you expecting to travel a month?\")\n",
    "            Expected_travels = int(userInput)\n",
    "            if Expected_travels >=0:\n",
    "                \n",
    "              if MontlySubscription<ZoneCost*Expected_travels:\n",
    "                 print(f\"It is worth it for one zone and you gain: {ZoneCost*Expected_travels-MontlySubscription} kr from a subscription!\")\n",
    "              else:                             ##Only needs 1 else because if the first doesn't work the second one wont either.\n",
    "                  print(f\"Based on your estimation of how much you travel a montly subscription isn't worth it!\")\n",
    "              if MontlySubscription<ZoneCostCombo*Expected_travels:\n",
    "                 print(f\"It is worth it for traveling more than one zone! and you gain: {ZoneCostCombo*Expected_travels-MontlySubscription} kr from a subscription!\")\n",
    "            \n",
    "            else:\n",
    "                print(\"Must be a number above 0\")\n",
    "                \n",
    "            break\n",
    "        except ValueError:\n",
    "            print(\"Format needs to be a number above 0\")\n",
    "            \n",
    "    \n",
    "            \n",
    "PublicTransitValueGuide()\n",
    "\n",
    "            "
   ]
  },
  {
   "cell_type": "code",
   "execution_count": null,
   "metadata": {},
   "outputs": [],
   "source": []
  }
 ],
 "metadata": {
  "kernelspec": {
   "display_name": "venv",
   "language": "python",
   "name": "python3"
  },
  "language_info": {
   "codemirror_mode": {
    "name": "ipython",
    "version": 3
   },
   "file_extension": ".py",
   "mimetype": "text/x-python",
   "name": "python",
   "nbconvert_exporter": "python",
   "pygments_lexer": "ipython3",
   "version": "3.10.0"
  }
 },
 "nbformat": 4,
 "nbformat_minor": 2
}
