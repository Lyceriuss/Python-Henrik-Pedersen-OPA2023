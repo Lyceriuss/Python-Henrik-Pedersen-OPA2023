{
 "cells": [
  {
   "cell_type": "markdown",
   "metadata": {},
   "source": [
    "# Exercise - dictionary"
   ]
  },
  {
   "cell_type": "markdown",
   "metadata": {},
   "source": [
    "## Curriculum (*)\n",
    "Create a dictionary containing all the courses that you will study in this program, with the course names as keys and the amount of points as value. Then calculate the number of points that you will study in total. (*)"
   ]
  },
  {
   "cell_type": "code",
   "execution_count": 2,
   "metadata": {},
   "outputs": [
    {
     "name": "stdout",
     "output_type": "stream",
     "text": [
      "400\n"
     ]
    }
   ],
   "source": [
    "Curriculum = {\"Introduktion till objektorientering\":15, \"OOP Grund\":50, \"Agil ProjektLedning\":15, \"Databaser\":30, \"Artificiell Intelligence 1\": 30, \"Artificiell Intelligence 2\": 60, \"Objektorienterad programmering avancered 1\": 40, \"Lärande i arbete 1\": 45, \"Objektorienterade Programmering Avancerad 2(2)\":30, \"Examensarbete\":15, \"Lärande i arbete 2\":70}\n",
    "\n",
    "pointsRequired = sum(Curriculum.values())\n",
    "\n",
    "print(pointsRequired)\n"
   ]
  },
  {
   "cell_type": "markdown",
   "metadata": {},
   "source": [
    "## Dice simulation (*)\n",
    "Simulate 1000000 dice rolls and save the number of ones, twos, ..., sixes in a dictionary. Then print them out in the terminal. (*)"
   ]
  },
  {
   "cell_type": "code",
   "execution_count": 7,
   "metadata": {},
   "outputs": [
    {
     "name": "stdout",
     "output_type": "stream",
     "text": [
      "Number of 1: 166636\n",
      "Number of 2: 166745\n",
      "Number of 3: 166903\n",
      "Number of 4: 166603\n",
      "Number of 5: 166314\n",
      "Number of 6: 166799\n"
     ]
    }
   ],
   "source": [
    "import random\n",
    "\n",
    "def DiceRolls():\n",
    "    return (random.randint(1,6))\n",
    "\n",
    "Rolls = {1:0, 2:0, 3:0, 4:0, 5:0, 6:0}\n",
    "\n",
    "\n",
    "for i in range(1000000): \n",
    "    Roll = DiceRolls()\n",
    "    Rolls[Roll] = Rolls.get(Roll,0)+1\n",
    "    \n",
    "for num in range(1, 7):\n",
    "    print(f\"Number of {num}: {Rolls[num]}\")\n",
    "    \n",
    "    \n",
    "     "
   ]
  },
  {
   "cell_type": "markdown",
   "metadata": {},
   "source": [
    "## Pokemon list (**)\n",
    "Read in the file pokemon_list.txt in Python. Create a variable with name pokedex with the key:value \"pokemon\":\"type, index\". For example when searching for the keys \"Gengar\" and \"Pikachu\": (*)\n",
    "\n",
    "print(pokedex[\"Gengar\"])\n",
    "print(pokedex[\"Pikachu\"])\n",
    "\n",
    "Spöke/Gift, 94\n",
    "Elektrisk, 25\n",
    "\n",
    "NOTE: Made it extra spicy by adding a search function so you can search automatically based on Index,name or type. If searching for Type it will show all Types as well."
   ]
  },
  {
   "cell_type": "code",
   "execution_count": 60,
   "metadata": {},
   "outputs": [
    {
     "name": "stdout",
     "output_type": "stream",
     "text": [
      "(94, 'Spöke/Gift', 'Gengar')\n",
      "(25, 'Elektrisk', 'Pikachu')\n",
      "No matching Pokémon found.\n"
     ]
    }
   ],
   "source": [
    "file_name = \"0.09_pokemon_list.txt\"\n",
    "pokedex_Index = {}\n",
    "pokedex_Name = {}\n",
    "pokedex_Type = {}\n",
    "\n",
    "\n",
    "def search_pokemon(query):\n",
    "    results = []\n",
    "    for index, details in pokedex_Index.items():\n",
    "        if str(query).lower() == str(details[0]).lower():\n",
    "            results.append((\"Index\", details))\n",
    "    for name, details in pokedex_Name.items():\n",
    "        if query.lower() in name.lower() or query.lower() in details[2].lower():\n",
    "            results.append((\"Name\", details))\n",
    "    for types, details in pokedex_Type.items():\n",
    "        if query.lower() in types.lower():  \n",
    "            results.append((\"Type\", details))\n",
    "    return results\n",
    "\n",
    "\n",
    "\n",
    "with open(file_name, \"r\", encoding=\"utf-8\") as file:    #Pokemons are in Swedish so we need utf-8\n",
    "    for line in file:\n",
    "        parts = line.split()\n",
    "        index = int(parts[0])  \n",
    "        name = parts[1]  \n",
    "        types = ' '.join(parts[2:]) \n",
    "        \n",
    "        pokedex_Index[index] = (index,name,types)\n",
    "        pokedex_Name[name] = (index,types,name)\n",
    "        for type_ in types.split('/'):    #Search function get messed up by the dash\n",
    "                if type_ not in pokedex_Type:\n",
    "                    pokedex_Type[type_] = []\n",
    "                pokedex_Type[type_].append((index, name, types))\n",
    "        \n",
    "print(pokedex_Name[\"Gengar\"])\n",
    "print(pokedex_Name[\"Pikachu\"])\n",
    "\n",
    "Query = input(\"Enter search criteria: \")\n",
    "search_result = search_pokemon(Query)\n",
    "if search_result:\n",
    "    print(\"Search Results:\")\n",
    "    for identifier, details in search_result:\n",
    "        print(f\"{identifier}: {details}\")\n",
    "else:\n",
    "    print(\"No matching Pokémon found.\")"
   ]
  },
  {
   "cell_type": "markdown",
   "metadata": {},
   "source": [
    "## Morse code (**)\n",
    "Read in the file morse.txt, save it in a dictionary and create a function that lets the user input a message to get it translated to morse code. For example (**)\n",
    "\n",
    "print(morse(\"SOS\"))\n",
    "print(morse(\"POKEMON\"))"
   ]
  },
  {
   "cell_type": "code",
   "execution_count": 78,
   "metadata": {},
   "outputs": [
    {
     "name": "stdout",
     "output_type": "stream",
     "text": [
      "Morse code: ... --- ...\n",
      "Morse code: ... --- ...\n",
      "Morse code: .-- --- -.- . -- --- -.\n",
      "Morse code: .- .-.. ..-. .-. . -..\n"
     ]
    }
   ],
   "source": [
    "file_name = \"0.09_morse.txt\"\n",
    "morse_dictionary = {}\n",
    "\n",
    "\n",
    "def read_morse_code_file(file_name):\n",
    "    \n",
    "    with open(file_name, \"r\") as file:\n",
    "        for line in file:\n",
    "            parts = line.strip().split(\":\")\n",
    "            if len(parts) == 2:\n",
    "                character = parts[0].strip()\n",
    "                morse_code = parts[1].strip()\n",
    "                morse_dictionary[character] = morse_code\n",
    "    return morse_dictionary\n",
    "\n",
    "\n",
    "def morse(message, morse_dictionary):\n",
    "\n",
    "    morse_code = \"\"\n",
    "    for char in message:\n",
    "        char_upper = char.upper()\n",
    "        if char_upper in morse_dictionary:\n",
    "            morse_code += morse_dictionary[char_upper] + \" \"\n",
    "        elif char_upper == \" \":\n",
    "            morse_code += \" \"\n",
    "    return morse_code.strip()\n",
    "\n",
    "\n",
    "def translate_to_morse():\n",
    "    message = input(\"Enter a message: \")\n",
    "    morse_code = morse(message, morse_dictionary)\n",
    "    print(\"Morse code:\", morse_code)\n",
    "    \n",
    "\n",
    "def print_morse(message):\n",
    "\n",
    "    morse_code = morse(message, morse_dictionary)\n",
    "    print(\"Morse code:\", morse_code)\n",
    "\n",
    "\n",
    "morse_dictionary = read_morse_code_file(file_name)\n",
    "\n",
    "translate_to_morse()\n",
    "print_morse(\"SOS\")\n",
    "print_morse(\"PoKeMOn\")\n",
    "print_morse(\"Alfred\")\n",
    "\n"
   ]
  },
  {
   "cell_type": "code",
   "execution_count": null,
   "metadata": {},
   "outputs": [],
   "source": []
  }
 ],
 "metadata": {
  "kernelspec": {
   "display_name": "venv",
   "language": "python",
   "name": "python3"
  },
  "language_info": {
   "codemirror_mode": {
    "name": "ipython",
    "version": 3
   },
   "file_extension": ".py",
   "mimetype": "text/x-python",
   "name": "python",
   "nbconvert_exporter": "python",
   "pygments_lexer": "ipython3",
   "version": "3.10.0"
  }
 },
 "nbformat": 4,
 "nbformat_minor": 2
}
