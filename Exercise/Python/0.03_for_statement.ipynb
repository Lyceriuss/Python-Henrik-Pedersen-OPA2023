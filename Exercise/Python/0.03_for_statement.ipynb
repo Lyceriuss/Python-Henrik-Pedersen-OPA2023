{
 "cells": [
  {
   "cell_type": "markdown",
   "metadata": {},
   "source": [
    "## Count numbers (*)\n",
    "Use a for statement to count from:\n",
    "\n",
    "a)   -10 to 10 with one increment (*)\n",
    "\n",
    "b)   -10 to 10 with two increment (*)"
   ]
  },
  {
   "cell_type": "code",
   "execution_count": 7,
   "metadata": {},
   "outputs": [
    {
     "name": "stdout",
     "output_type": "stream",
     "text": [
      "-10 -9 -8 -7 -6 -5 -4 -3 -2 -1 0 1 2 3 4 5 6 7 8 9 10  \n",
      "-10 -8 -6 -4 -2 0 2 4 6 8 10 "
     ]
    }
   ],
   "source": [
    "for i in range(-10,11):\n",
    "    print(f\"{i}\" ,end=\" \")\n",
    "    \n",
    "print(\" \")    \n",
    "for i in range(-11, 10, 2):\n",
    "    i+=+1\n",
    "    print(f\"{i}\" ,end=\" \")"
   ]
  },
  {
   "cell_type": "markdown",
   "metadata": {},
   "source": [
    "## Arithmetic sum (*)\n",
    "Use a for statement to compute the following sums:\n",
    "\n",
    "a) Sum = 1+2+3+4..100\n",
    "\n",
    "b) sum = 1+3+5+7..100"
   ]
  },
  {
   "cell_type": "markdown",
   "metadata": {},
   "source": []
  },
  {
   "cell_type": "code",
   "execution_count": 3,
   "metadata": {},
   "outputs": [
    {
     "name": "stdout",
     "output_type": "stream",
     "text": [
      "4950\n",
      "5050\n"
     ]
    }
   ],
   "source": [
    "Sum_a = 0\n",
    "Sum_b = 0\n",
    "\n",
    "for i in range(101):\n",
    "    Sum_a+=i\n",
    "    Sum_b+=i+1\n",
    "\n",
    "print(Sum_a)\n",
    "print(Sum_b)"
   ]
  },
  {
   "cell_type": "markdown",
   "metadata": {},
   "source": [
    "## Multiplication table (*)\n",
    "Use for statement(s) to:\n",
    "\n",
    "a)   print out the 6th multiplication table from 0 to 10 (*)\n",
    "\n",
    "b)   let the user input the table, start and end of the table. (*)\n",
    "\n",
    "c)   print out a full multiplication table from 0 to 10. (**)"
   ]
  },
  {
   "cell_type": "code",
   "execution_count": 5,
   "metadata": {},
   "outputs": [
    {
     "name": "stdout",
     "output_type": "stream",
     "text": [
      "Result is6 Result is12 Result is18 Result is24 Result is30 Result is36 Result is42 Result is48 Result is54 Result is60 "
     ]
    }
   ],
   "source": [
    "#a)\n",
    "for i in range(1,11):\n",
    "    print(f\"Result is{6*i}\", end=\" \")"
   ]
  },
  {
   "cell_type": "code",
   "execution_count": 7,
   "metadata": {},
   "outputs": [
    {
     "name": "stdout",
     "output_type": "stream",
     "text": [
      "1 2 3 4 "
     ]
    }
   ],
   "source": [
    "MinRange= int(input(\"MinRange:\"))\n",
    "MaxRange= int(input(\"MaxRange:\"))\n",
    "\n",
    "for i in range(MinRange,MaxRange):\n",
    "    print(i, end=\" \")"
   ]
  },
  {
   "cell_type": "code",
   "execution_count": 9,
   "metadata": {},
   "outputs": [
    {
     "name": "stdout",
     "output_type": "stream",
     "text": [
      "1234567891024681012141618203691215182124273048121620242832364051015202530354045506121824303642485460714212835424956637081624324048566472809182736455463728190102030405060708090100"
     ]
    }
   ],
   "source": [
    "for i in range(1,11):\n",
    "    for j in range(1,11):\n",
    "        print(i*j,end=\"\")"
   ]
  },
  {
   "cell_type": "markdown",
   "metadata": {},
   "source": [
    "## Faculty (*)\n",
    "Use a for statement to compute \n",
    "\n",
    "n! = 1*2*3...*(n-1)*n\n",
    "\n",
    "Let the user input n "
   ]
  },
  {
   "cell_type": "code",
   "execution_count": 24,
   "metadata": {},
   "outputs": [
    {
     "name": "stdout",
     "output_type": "stream",
     "text": [
      "Factorial=120\n"
     ]
    }
   ],
   "source": [
    "n = int(input(\"N-Value:\"))\n",
    "sum = 1\n",
    "\n",
    "for i in range(1, n+1):\n",
    "    sum *=i\n",
    "\n",
    "print(f\"Factorial={sum}\")"
   ]
  },
  {
   "cell_type": "markdown",
   "metadata": {},
   "source": [
    "## Pin code cracking (*)\n",
    "Start by creating a random four-digit number. Use for statement to do a brute force approach to figure out a correct guess."
   ]
  },
  {
   "cell_type": "code",
   "execution_count": 37,
   "metadata": {},
   "outputs": [
    {
     "name": "stdout",
     "output_type": "stream",
     "text": [
      "Acceptable!\n",
      "Your code is!['2', '4', '4', '4'] and took 1334 tries to crack\n"
     ]
    }
   ],
   "source": [
    "FourDigitCode = int(input(\"FourDigitCode\"))\n",
    "codeCrackCounter = 0\n",
    "CodeCrack =[]\n",
    "\n",
    "if 1000 <= FourDigitCode <=9999:\n",
    "    print(\"Acceptable!\")\n",
    "    FourDigitCode_str = str(FourDigitCode)\n",
    "    for i in range(4):\n",
    "        CodeCrack.append(FourDigitCode_str[i])\n",
    "else:\n",
    "    print(\"Must be 4-digit int\")\n",
    "    exit()\n",
    "    \n",
    "code_cracked = False\n",
    "    \n",
    "for i in range(1,11):\n",
    "    if code_cracked:\n",
    "        break\n",
    "    for j in range(1,11):\n",
    "        if code_cracked:\n",
    "            break\n",
    "        for n in range(1,11):\n",
    "            if code_cracked:\n",
    "                break\n",
    "            for m in range(1,11):\n",
    "                codeCrackCounter+=1\n",
    "                if CodeCrack[0] == str(i) and CodeCrack[1] == str(j) and CodeCrack[2] == str(n) and CodeCrack[3] == str(m):\n",
    "                    print(f\"Your code is!{CodeCrack} and took {codeCrackCounter} tries to crack\")\n",
    "                    code_cracked = True\n",
    "                    break"
   ]
  },
  {
   "cell_type": "markdown",
   "metadata": {},
   "source": [
    "## Rice on chessboard (*)\n",
    "In first square of the chessboard there is one grain of rice, in the second square there is two grains, in the third square there is four grains and so on. How many grains are there in the whole chessboard when all squares are filled using this pattern?"
   ]
  },
  {
   "cell_type": "code",
   "execution_count": 5,
   "metadata": {},
   "outputs": [
    {
     "name": "stdout",
     "output_type": "stream",
     "text": [
      "Total rice: 18446744073709551615\n",
      "Rice on square 1: 1\n",
      "Rice on square 2: 2\n",
      "Rice on square 3: 4\n",
      "Rice on square 4: 8\n",
      "Rice on square 30: 536870912\n",
      "Rice on square 31: 1073741824\n",
      "18446744073709551616\n"
     ]
    }
   ],
   "source": [
    "Rice = 1\n",
    "n = 64\n",
    "\n",
    "# Easier way\n",
    "RiceSum1 = 2**n - 1\n",
    "print(\"Total rice:\", RiceSum1)\n",
    "\n",
    "# In a loopidiloop\n",
    "for i in range(n):\n",
    "\n",
    "    if i in [0, 1, 2, 3, 29, 30, 62]:  \n",
    "        print(f\"Rice on square {i+1}: {Rice}\")\n",
    "    Rice *= 2\n",
    "    \n",
    "print(Rice)"
   ]
  },
  {
   "cell_type": "code",
   "execution_count": null,
   "metadata": {},
   "outputs": [],
   "source": []
  }
 ],
 "metadata": {
  "kernelspec": {
   "display_name": "venv",
   "language": "python",
   "name": "python3"
  },
  "language_info": {
   "codemirror_mode": {
    "name": "ipython",
    "version": 3
   },
   "file_extension": ".py",
   "mimetype": "text/x-python",
   "name": "python",
   "nbconvert_exporter": "python",
   "pygments_lexer": "ipython3",
   "version": "3.10.0"
  }
 },
 "nbformat": 4,
 "nbformat_minor": 2
}
