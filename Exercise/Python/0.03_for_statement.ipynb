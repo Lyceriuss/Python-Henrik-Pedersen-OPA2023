{
 "cells": [
  {
   "cell_type": "markdown",
   "metadata": {},
   "source": [
    "## Count numbers (*)\n",
    "Use a for statement to count from:\n",
    "\n",
    "a)   -10 to 10 with one increment (*)\n",
    "\n",
    "b)   -10 to 10 with two increment (*)"
   ]
  },
  {
   "cell_type": "code",
   "execution_count": 7,
   "metadata": {},
   "outputs": [
    {
     "name": "stdout",
     "output_type": "stream",
     "text": [
      "-10 -9 -8 -7 -6 -5 -4 -3 -2 -1 0 1 2 3 4 5 6 7 8 9 10  \n",
      "-10 -8 -6 -4 -2 0 2 4 6 8 10 "
     ]
    }
   ],
   "source": [
    "for i in range(-10,11):\n",
    "    print(f\"{i}\" ,end=\" \")\n",
    "    \n",
    "print(\" \")    \n",
    "for i in range(-11, 10, 2):\n",
    "    i+=+1\n",
    "    print(f\"{i}\" ,end=\" \")"
   ]
  },
  {
   "cell_type": "markdown",
   "metadata": {},
   "source": [
    "## Arithmetic sum (*)\n",
    "Use a for statement to compute the following sums:\n",
    "\n",
    "a) Sum = 1+2+3+4..100\n",
    "\n",
    "b) sum = 1+3+5+7..100"
   ]
  },
  {
   "cell_type": "markdown",
   "metadata": {},
   "source": []
  },
  {
   "cell_type": "code",
   "execution_count": 3,
   "metadata": {},
   "outputs": [
    {
     "name": "stdout",
     "output_type": "stream",
     "text": [
      "4950\n",
      "5050\n"
     ]
    }
   ],
   "source": [
    "Sum_a = 0\n",
    "Sum_b = 0\n",
    "\n",
    "for i in range(101):\n",
    "    Sum_a+=i\n",
    "    Sum_b+=i+1\n",
    "\n",
    "print(Sum_a)\n",
    "print(Sum_b)"
   ]
  },
  {
   "cell_type": "markdown",
   "metadata": {},
   "source": [
    "## Multiplication table (*)\n",
    "Use for statement(s) to:\n",
    "\n",
    "a)   print out the 6th multiplication table from 0 to 10 (*)\n",
    "\n",
    "b)   let the user input the table, start and end of the table. (*)\n",
    "\n",
    "c)   print out a full multiplication table from 0 to 10. (**)"
   ]
  },
  {
   "cell_type": "code",
   "execution_count": 5,
   "metadata": {},
   "outputs": [
    {
     "name": "stdout",
     "output_type": "stream",
     "text": [
      "Result is6 Result is12 Result is18 Result is24 Result is30 Result is36 Result is42 Result is48 Result is54 Result is60 "
     ]
    }
   ],
   "source": [
    "#a)\n",
    "for i in range(1,11):\n",
    "    print(f\"Result is{6*i}\", end=\" \")"
   ]
  },
  {
   "cell_type": "code",
   "execution_count": 7,
   "metadata": {},
   "outputs": [
    {
     "name": "stdout",
     "output_type": "stream",
     "text": [
      "1 2 3 4 "
     ]
    }
   ],
   "source": [
    "MinRange= int(input(\"MinRange:\"))\n",
    "MaxRange= int(input(\"MaxRange:\"))\n",
    "\n",
    "for i in range(MinRange,MaxRange):\n",
    "    print(i, end=\" \")"
   ]
  },
  {
   "cell_type": "code",
   "execution_count": 9,
   "metadata": {},
   "outputs": [
    {
     "name": "stdout",
     "output_type": "stream",
     "text": [
      "1234567891024681012141618203691215182124273048121620242832364051015202530354045506121824303642485460714212835424956637081624324048566472809182736455463728190102030405060708090100"
     ]
    }
   ],
   "source": [
    "for i in range(1,11):\n",
    "    for j in range(1,11):\n",
    "        print(i*j,end=\"\")"
   ]
  },
  {
   "cell_type": "markdown",
   "metadata": {},
   "source": [
    "## Faculty (*)\n",
    "Use a for statement to compute \n",
    "\n",
    "n! = 1*2*3...*(n-1)*n\n",
    "\n",
    "Let the user input n "
   ]
  },
  {
   "cell_type": "code",
   "execution_count": 24,
   "metadata": {},
   "outputs": [
    {
     "name": "stdout",
     "output_type": "stream",
     "text": [
      "Factorial=120\n"
     ]
    }
   ],
   "source": [
    "n = int(input(\"N-Value:\"))\n",
    "sum = 1\n",
    "\n",
    "for i in range(1, n+1):\n",
    "    sum *=i\n",
    "\n",
    "print(f\"Factorial={sum}\")"
   ]
  },
  {
   "cell_type": "code",
   "execution_count": null,
   "metadata": {},
   "outputs": [],
   "source": []
  },
  {
   "cell_type": "code",
   "execution_count": null,
   "metadata": {},
   "outputs": [],
   "source": []
  }
 ],
 "metadata": {
  "kernelspec": {
   "display_name": "venv",
   "language": "python",
   "name": "python3"
  },
  "language_info": {
   "codemirror_mode": {
    "name": "ipython",
    "version": 3
   },
   "file_extension": ".py",
   "mimetype": "text/x-python",
   "name": "python",
   "nbconvert_exporter": "python",
   "pygments_lexer": "ipython3",
   "version": "3.10.0"
  }
 },
 "nbformat": 4,
 "nbformat_minor": 2
}
