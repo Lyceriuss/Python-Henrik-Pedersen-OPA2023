{
 "cells": [
  {
   "cell_type": "markdown",
   "metadata": {},
   "source": [
    "## Count numbers (*)\n",
    "Use a for statement to count from:\n",
    "\n",
    "a)   -10 to 10 with one increment (*)\n",
    "\n",
    "b)   -10 to 10 with two increment (*)"
   ]
  },
  {
   "cell_type": "code",
   "execution_count": 7,
   "metadata": {},
   "outputs": [
    {
     "name": "stdout",
     "output_type": "stream",
     "text": [
      "-10 -9 -8 -7 -6 -5 -4 -3 -2 -1 0 1 2 3 4 5 6 7 8 9 10  \n",
      "-10 -8 -6 -4 -2 0 2 4 6 8 10 "
     ]
    }
   ],
   "source": [
    "for i in range(-10,11):\n",
    "    print(f\"{i}\" ,end=\" \")\n",
    "    \n",
    "print(\" \")    \n",
    "for i in range(-11, 10, 2):\n",
    "    i+=+1\n",
    "    print(f\"{i}\" ,end=\" \")"
   ]
  },
  {
   "cell_type": "markdown",
   "metadata": {},
   "source": [
    "## Arithmetic sum (*)\n",
    "Use a for statement to compute the following sums:\n",
    "\n",
    "a) Sum = 1+2+3+4..100\n",
    "\n",
    "b) sum = 1+3+5+7..100"
   ]
  },
  {
   "cell_type": "markdown",
   "metadata": {},
   "source": []
  }
 ],
 "metadata": {
  "kernelspec": {
   "display_name": "venv",
   "language": "python",
   "name": "python3"
  },
  "language_info": {
   "codemirror_mode": {
    "name": "ipython",
    "version": 3
   },
   "file_extension": ".py",
   "mimetype": "text/x-python",
   "name": "python",
   "nbconvert_exporter": "python",
   "pygments_lexer": "ipython3",
   "version": "3.10.0"
  }
 },
 "nbformat": 4,
 "nbformat_minor": 2
}
