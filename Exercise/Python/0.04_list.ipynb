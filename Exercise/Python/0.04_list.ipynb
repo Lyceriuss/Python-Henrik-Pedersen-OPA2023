{
 "cells": [
  {
   "cell_type": "markdown",
   "metadata": {},
   "source": [
    "## Dice rolls (*)\n",
    "\n",
    "Simulate 10 dice rolls and append the rolls to a list or use list comprehension.\n",
    "\n",
    "a)   sort the list in ascending order (*)\n",
    "\n",
    "b)   sort the list in descending order (*)\n",
    "\n",
    "c)   find the maximum and minimum value in the list (*)"
   ]
  },
  {
   "cell_type": "code",
   "execution_count": null,
   "metadata": {},
   "outputs": [],
   "source": []
  }
 ],
 "metadata": {
  "language_info": {
   "name": "python"
  }
 },
 "nbformat": 4,
 "nbformat_minor": 2
}
