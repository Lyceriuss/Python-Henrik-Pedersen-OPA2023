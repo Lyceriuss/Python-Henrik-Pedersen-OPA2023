{
 "cells": [
  {
   "cell_type": "markdown",
   "metadata": {},
   "source": [
    "## If Statements"
   ]
  },
  {
   "cell_type": "markdown",
   "metadata": {},
   "source": [
    "# Check sign"
   ]
  },
  {
   "cell_type": "code",
   "execution_count": 2,
   "metadata": {},
   "outputs": [
    {
     "name": "stdout",
     "output_type": "stream",
     "text": [
      "Its positive!\n"
     ]
    }
   ],
   "source": [
    "Check = int(input(\"Enter a number: \"))\n",
    "\n",
    "if Check <0:\n",
    "    print(f\"Its negative!\")\n",
    "elif Check == 0:\n",
    "   print(f\"Its zero!\") \n",
    "else:\n",
    "    print(\"Its positive!\")"
   ]
  },
  {
   "cell_type": "markdown",
   "metadata": {},
   "source": [
    "## Smallest"
   ]
  },
  {
   "cell_type": "code",
   "execution_count": 4,
   "metadata": {},
   "outputs": [
    {
     "name": "stdout",
     "output_type": "stream",
     "text": [
      "Num 2 is smaller!\n"
     ]
    }
   ],
   "source": [
    "num1 = int(input(\"Enter num1: \"))\n",
    "num2 = int(input(\"Enter num2: \"))\n",
    "\n",
    "if num1<num2:\n",
    "    print(\"Num 1 is smaller!\")\n",
    "else:\n",
    "    print(\"Num 2 is smaller!\")"
   ]
  },
  {
   "cell_type": "markdown",
   "metadata": {},
   "source": [
    "## Right angle"
   ]
  },
  {
   "cell_type": "code",
   "execution_count": 12,
   "metadata": {},
   "outputs": [
    {
     "name": "stdout",
     "output_type": "stream",
     "text": [
      "Angle 1 is valid\n",
      "Angle 2 is valid\n",
      "Angle 3 is valid\n",
      "Total 180\n",
      "It is a triangle!\n"
     ]
    }
   ],
   "source": [
    "num = []\n",
    "numsum = 0\n",
    "\n",
    "for i in range(3):\n",
    "    angle=int(input(\"Enter angle\"))\n",
    "    \n",
    "    if 0 < angle < 365:\n",
    "        print(f\"Angle {i+1} is valid\")\n",
    "        num=+1\n",
    "        numsum+=angle\n",
    "    else:\n",
    "        print(f\"Angle {i+1} is not valid\")\n",
    "\n",
    "print(f\"Total {numsum}\")\n",
    "if numsum == 180:\n",
    "    print(\"It is a triangle!\")\n",
    "else:\n",
    "    print(\"Its not a triangle, its Something else!\")        \n",
    "         "
   ]
  },
  {
   "cell_type": "markdown",
   "metadata": {},
   "source": [
    "## Medicine"
   ]
  },
  {
   "cell_type": "code",
   "execution_count": 19,
   "metadata": {},
   "outputs": [
    {
     "name": "stdout",
     "output_type": "stream",
     "text": [
      "Age:10 and weight:32\n",
      "Take maximum of 1 pills!\n"
     ]
    }
   ],
   "source": [
    "age = int(input(\"Age:\"))\n",
    "weight = int(input(\"Weight:\"))\n",
    "\n",
    "child = (age, weight)\n",
    "\n",
    "print(f\"Age:{age} and weight:{weight}\")\n",
    "\n",
    "if child[0]>12 and child[1]>40:\n",
    "    print(\"Take maximum of 2 pills!\")\n",
    "elif 7<child[0]<=12 and 26<child[1]<=40:\n",
    "    print(\"Take maximum of 1 pill\")\n",
    "elif 3 < child[0] <=7 and 15< child[1] <=25:\n",
    "    print(\"Take maximum of half a pill!\")\n",
    "else:\n",
    "    print(\"No pill for you!\")\n",
    "    "
   ]
  },
  {
   "cell_type": "markdown",
   "metadata": {},
   "source": []
  }
 ],
 "metadata": {
  "kernelspec": {
   "display_name": "venv",
   "language": "python",
   "name": "python3"
  },
  "language_info": {
   "codemirror_mode": {
    "name": "ipython",
    "version": 3
   },
   "file_extension": ".py",
   "mimetype": "text/x-python",
   "name": "python",
   "nbconvert_exporter": "python",
   "pygments_lexer": "ipython3",
   "version": "3.10.0"
  }
 },
 "nbformat": 4,
 "nbformat_minor": 2
}
