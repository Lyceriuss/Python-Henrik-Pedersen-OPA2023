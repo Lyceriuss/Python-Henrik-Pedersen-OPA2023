{
 "cells": [
  {
   "cell_type": "markdown",
   "metadata": {},
   "source": [
    "# Exercise - strings"
   ]
  },
  {
   "cell_type": "markdown",
   "metadata": {},
   "source": [
    "# 0. Counting letters (*)\n",
    "Let the user input a word:\n",
    "\n",
    "  a)   print out the number of letters in the word. (*)\n",
    "\n",
    "  b)   print out the number of uppercase and lowercase letters of the word (*)"
   ]
  },
  {
   "cell_type": "code",
   "execution_count": 7,
   "metadata": {},
   "outputs": [
    {
     "name": "stdout",
     "output_type": "stream",
     "text": [
      "6\n",
      "The word is 6 and has: 2 uppercase and 4 lowercase\n"
     ]
    }
   ],
   "source": [
    "word = input()\n",
    "print(len(word))\n",
    "\n",
    "upper = 0\n",
    "lower = 0\n",
    "\n",
    "\n",
    "for i in range(len(word)):\n",
    "    if word[i]== word[i].lower():\n",
    "        lower+=1\n",
    "    if word[i]== word[i].upper():\n",
    "        upper+=1\n",
    "\n",
    "print(f\"The word is {len(word)} long and has: {upper} uppercase and {lower} lowercase\")"
   ]
  },
  {
   "cell_type": "markdown",
   "metadata": {},
   "source": [
    "## Counting words (*)\n",
    "Count the number of words in this sentence: \"A picture says more than a thousand words, a matematical formula says more than a thousand pictures.\" (*)"
   ]
  },
  {
   "cell_type": "code",
   "execution_count": 8,
   "metadata": {},
   "outputs": [
    {
     "name": "stdout",
     "output_type": "stream",
     "text": [
      "Number of words in the sentence: 17\n"
     ]
    }
   ],
   "source": [
    "sentence = \"A picture says more than a thousand words, a mathematical formula says more than a thousand pictures.\"\n",
    "word_count = len(sentence.split())\n",
    "print(\"Number of words in the sentence:\", word_count)"
   ]
  },
  {
   "cell_type": "markdown",
   "metadata": {},
   "source": [
    "## Palindrome (*)\n",
    "A palindrome is a sequence of characters that is the same, when read forward as backwards (ignoring spaces). For example:\n",
    "\n",
    "\"Anna\" is a palindrome\n",
    "\"Ni talar bra latin\"\n",
    "bjkjb"
   ]
  },
  {
   "cell_type": "code",
   "execution_count": 16,
   "metadata": {},
   "outputs": [
    {
     "name": "stdout",
     "output_type": "stream",
     "text": [
      "Palidrone\n"
     ]
    }
   ],
   "source": [
    "Word = str(input().replace(\" \", \"\"))\n",
    "\n",
    "if Word == Word[::-1]:\n",
    "    print(\"Palidrone\")\n",
    "else:\n",
    "    print(\"No\")"
   ]
  },
  {
   "cell_type": "markdown",
   "metadata": {},
   "source": [
    "## Vowels (**)\n",
    "Count the number of vowels in this sentence: \"Pure mathematics is, in its way, the poetry of logical ideas\""
   ]
  },
  {
   "cell_type": "code",
   "execution_count": 17,
   "metadata": {},
   "outputs": [
    {
     "name": "stdout",
     "output_type": "stream",
     "text": [
      "Number of Vowels: 20\n"
     ]
    }
   ],
   "source": [
    "#Did it with ACII first, but that was dumb\n",
    "\n",
    "Vowels = \"AEIOUaeiou\"\n",
    "VowelCount = 0\n",
    "\n",
    "Sentence = \"Pure mathematics is, in its way, the poetry of logical ideas\".replace(\" \", \"\")\n",
    "\n",
    "for char in Sentence:\n",
    "    if char in Vowels:\n",
    "        VowelCount +=1\n",
    "        \n",
    "\n",
    "print(\"Number of Vowels:\", VowelCount)"
   ]
  },
  {
   "cell_type": "markdown",
   "metadata": {},
   "source": [
    "## Encryption (**)\n",
    "Let the user input a word and:\n",
    "\n",
    "a) encrypt the message by replacing each letter with the next letter. If the letter is in the end of the alphabet, use the first letter instead.\n",
    "\n",
    "e.g. in Swedish: \"höst\" \"iatu\""
   ]
  },
  {
   "cell_type": "code",
   "execution_count": 29,
   "metadata": {},
   "outputs": [
    {
     "name": "stdout",
     "output_type": "stream",
     "text": [
      "Encrypted message: jbuv\n"
     ]
    }
   ],
   "source": [
    "#This is also known as a Ceasar Cipher So lets add some extra customizable stuff.\n",
    "\n",
    "\n",
    "def encrypt_message(message, CCvar):\n",
    "    Fucking_Sverige_maDud = \"abcdefghijklmnopqrstuvwxyzåäö\"\n",
    "    encrypted_message = ''\n",
    "\n",
    "    for char in message:\n",
    "        if char in Fucking_Sverige_maDud:\n",
    "            index = (Fucking_Sverige_maDud.index(\n",
    "                char) + int(CCvar)) % len(Fucking_Sverige_maDud)\n",
    "            encrypted_char = Fucking_Sverige_maDud[index]\n",
    "            if char.isupper():\n",
    "                encrypted_char = encrypted_char.upper()\n",
    "            encrypted_message += encrypted_char\n",
    "        else:\n",
    "            encrypted_message += char\n",
    "\n",
    "    return encrypted_message\n",
    "\n",
    "\n",
    "message = \"höst\"\n",
    "CCvar = 2   # CeasarCipherShift\n",
    "encrypted_message = encrypt_message(message,CCvar)\n",
    "print(\"Encrypted message:\", encrypted_message)"
   ]
  },
  {
   "cell_type": "code",
   "execution_count": null,
   "metadata": {},
   "outputs": [],
   "source": []
  }
 ],
 "metadata": {
  "kernelspec": {
   "display_name": "venv",
   "language": "python",
   "name": "python3"
  },
  "language_info": {
   "codemirror_mode": {
    "name": "ipython",
    "version": 3
   },
   "file_extension": ".py",
   "mimetype": "text/x-python",
   "name": "python",
   "nbconvert_exporter": "python",
   "pygments_lexer": "ipython3",
   "version": "3.10.0"
  }
 },
 "nbformat": 4,
 "nbformat_minor": 2
}
