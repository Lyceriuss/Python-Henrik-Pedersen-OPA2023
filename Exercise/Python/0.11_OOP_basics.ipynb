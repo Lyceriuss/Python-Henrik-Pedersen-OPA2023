{
 "cells": [
  {
   "cell_type": "markdown",
   "metadata": {},
   "source": [
    "# Exercise - OOP"
   ]
  },
  {
   "cell_type": "code",
   "execution_count": 8,
   "metadata": {},
   "outputs": [
    {
     "name": "stdout",
     "output_type": "stream",
     "text": [
      "7.874015748031496\n",
      "7.874015748031496\n"
     ]
    }
   ],
   "source": [
    "class converter:\n",
    "    def __init__(self, value):\n",
    "        self._value = value\n",
    "        \n",
    "    def __repr__(self):\n",
    "        return f\"Converter(value={self._value})\"\n",
    "        \n",
    "    def value(self):            #Property\n",
    "        return self._value      #This is a getter so converter.value will return the value inside. Technically, Python execute converter.value()\n",
    "    \n",
    "    def value(self, new_value):             #Setter that checks for if it is an int,float and positive.\n",
    "        if not isinstance(new_value, (int,float)):\n",
    "            raise ValueError(\"Float or int value only\")\n",
    "        elif new_value <0:\n",
    "            raise ValueError(\"Number must be positive\")\n",
    "        self._value = new_value\n",
    "        \n",
    "    def inch_to_cm(self):\n",
    "        return self._value *2.54\n",
    "    \n",
    "    def cm_to_inch(self):\n",
    "        return self._value * 1/2.54\n",
    "    \n",
    "    def foot_to_meters(self):\n",
    "        return self._value * 1/3.048\n",
    "    \n",
    "    def pound_to_kg(self):\n",
    "        return self.value * 0.45359\n",
    "    \n",
    "    \n",
    "#Create an object then print said object\n",
    "a = converter(20)\n",
    "print(a.cm_to_inch())  \n",
    "    \n",
    "\n",
    "\n",
    "# Static class that does not need anything more.\n",
    "class converter2:\n",
    "    \n",
    "    def cm_to_inch(value):\n",
    "        return value * 1/2.54\n",
    "    \n",
    "\n",
    "\n",
    "print(converter2.cm_to_inch(20))"
   ]
  },
  {
   "cell_type": "markdown",
   "metadata": {},
   "source": [
    "## Person (*)\n",
    "\n",
    "Create a class named Person, with parameterized constructor with the following parameters:\n",
    "\n",
    "name\n",
    "age\n",
    "email\n",
    "Turn name, age, email into properties with following validations in their setters:\n",
    "\n",
    "name - must be string\n",
    "age - must be number between 0 and 125\n",
    "email - must include an @ sign\n"
   ]
  },
  {
   "cell_type": "code",
   "execution_count": 12,
   "metadata": {},
   "outputs": [
    {
     "name": "stdout",
     "output_type": "stream",
     "text": [
      "Person(name='Erik', age=32, email='Erik@fakemail.com')\n",
      "Hi, my name is Erik. I'm 32 years old and my email adress is Erik@fakemail.com\n"
     ]
    }
   ],
   "source": [
    "class Person:\n",
    "    def __init__(self, name, age, email):\n",
    "        self._name = name\n",
    "        self._age = age\n",
    "        self._email = email\n",
    "    \n",
    "    @property\n",
    "    def name(self):\n",
    "        return self._name\n",
    "    \n",
    "    @name.setter\n",
    "    def name(self, name):          \n",
    "        if not isinstance(name, str):\n",
    "            raise ValueError(\"Value must be a string!\")\n",
    "    \n",
    "        self._name = name\n",
    "\n",
    "    @property\n",
    "    def age(self):\n",
    "        return self._age\n",
    "\n",
    "    @age.setter\n",
    "    def age(self, age): \n",
    "        if not isinstance(age, int):\n",
    "            raise ValueError(\"Value must be an int!\")\n",
    "        elif age <= 0 or age > 125:\n",
    "            raise ValueError(\"Must be older than 0!\")\n",
    "\n",
    "        self._age = age\n",
    "    \n",
    "    @property\n",
    "    def email(self):\n",
    "        return self._email\n",
    "\n",
    "    @email.setter\n",
    "    def email(self, email): \n",
    "        if not isinstance(email, str):\n",
    "            raise ValueError(\"Must be an email!\")\n",
    "        if \"@\" not in email:\n",
    "            raise ValueError(\"Invalid format!\")\n",
    "\n",
    "        self._email = email\n",
    "\n",
    "    def __repr__(self):         # For Debugging\n",
    "            return f\"Person(name={self._name!r}, age={self._age!r}, email={self._email!r})\"\n",
    "        \n",
    "    def say_hello(self):        # Basic print function\n",
    "        return f\"Hi, my name is {self._name}. I'm {self._age} years old and my email adress is {self._email}\"\n",
    "    \n",
    "    \n",
    "P1 = person(\"Erik\",32,\"Erik@fakemail.com\")\n",
    "\n",
    "print(P1)\n",
    "print(P1.say_hello())\n",
    "\n",
    "    "
   ]
  },
  {
   "cell_type": "markdown",
   "metadata": {},
   "source": [
    "## Student and Teacher (*)\n",
    "Create two classes named Student and Teacher that inherits from Person.\n",
    "\n",
    "The Student class shall have:\n",
    "\n",
    "study() method that prints out\n",
    "study...study...study...more study\n",
    "override say_hello() with the following message:\n",
    "Yo, I am a student, my name is ..., I am ... years old, my email address is ...  \n",
    "The Teacher class shall have:\n",
    "\n",
    "teach() method that prints out\n",
    "teach...teach...teach...more teaching\n",
    "Instantiate a Teacher object and a Student object. Call\n",
    "\n",
    "teach() and say_hello() methods from your Teacher object.\n",
    "study() and say_hello() methods from your Student object."
   ]
  },
  {
   "cell_type": "code",
   "execution_count": 18,
   "metadata": {},
   "outputs": [
    {
     "name": "stdout",
     "output_type": "stream",
     "text": [
      "Yo, iam a student, my name is Boris. I'm 20 years old and my email adress is Boris@fakemail.com\n",
      "Teach... Teach... Teach... Teach...\n"
     ]
    }
   ],
   "source": [
    "class Student(Person):\n",
    "    def __init__(self, name, age, email):\n",
    "        super().__init__(name, age, email)\n",
    "        \n",
    "    def study():        #use a for loop for DRY\n",
    "        return \" \".join([\"study...\" for _ in range(4)])\n",
    "    \n",
    "    def say_hello(self):\n",
    "        return f\"Yo, iam a student, my name is {self._name}. I'm {self._age} years old and my email adress is {self._email}\"\n",
    "    \n",
    "    \n",
    "class Teacher(Person):\n",
    "    def __init__(self, name, age, email):\n",
    "        super().__init__(name, age, email)\n",
    "\n",
    "    def Teach(self):  # use a for loop for DRY\n",
    "        return \" \".join([\"Teach...\" for _ in range(4)])\n",
    "\n",
    "    def say_hello(self):\n",
    "        return f\"Yo, iam a student, my name is {self._name}. I'm {self._age} years old and my email adress is {self._email}\"\n",
    "    \n",
    "\n",
    "s1 = Student(\"Boris\", 20, \"Boris@fakemail.com\")\n",
    "t1 = Teacher(\"Doris\", 25, \"Doris@fakemail.com\")\n",
    "\n",
    "print(s1.say_hello())\n",
    "print(t1.Teach())"
   ]
  },
  {
   "cell_type": "code",
   "execution_count": null,
   "metadata": {},
   "outputs": [],
   "source": []
  }
 ],
 "metadata": {
  "kernelspec": {
   "display_name": "venv",
   "language": "python",
   "name": "python3"
  },
  "language_info": {
   "codemirror_mode": {
    "name": "ipython",
    "version": 3
   },
   "file_extension": ".py",
   "mimetype": "text/x-python",
   "name": "python",
   "nbconvert_exporter": "python",
   "pygments_lexer": "ipython3",
   "version": "3.10.0"
  }
 },
 "nbformat": 4,
 "nbformat_minor": 2
}
