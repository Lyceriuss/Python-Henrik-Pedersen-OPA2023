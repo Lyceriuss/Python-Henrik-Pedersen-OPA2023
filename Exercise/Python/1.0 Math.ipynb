{
 "cells": [
  {
   "cell_type": "markdown",
   "metadata": {},
   "source": [
    "# Exercises part 1."
   ]
  },
  {
   "cell_type": "markdown",
   "metadata": {},
   "source": []
  },
  {
   "cell_type": "code",
   "execution_count": null,
   "metadata": {},
   "outputs": [],
   "source": []
  },
  {
   "cell_type": "markdown",
   "metadata": {},
   "source": [
    "Pythagorean theorem"
   ]
  },
  {
   "cell_type": "markdown",
   "metadata": {},
   "source": []
  },
  {
   "cell_type": "code",
   "execution_count": 2,
   "metadata": {},
   "outputs": [
    {
     "name": "stdout",
     "output_type": "stream",
     "text": [
      "According to Pythagorean theorem C=5.0\n"
     ]
    }
   ],
   "source": [
    "a=3\n",
    "b=4\n",
    "c = (a**2 + b**2) ** 0.5\n",
    "\n",
    "print(f\"According to Pythagorean theorem C={c}\")"
   ]
  },
  {
   "cell_type": "markdown",
   "metadata": {},
   "source": [
    "## Classifcation accuracy"
   ]
  },
  {
   "cell_type": "code",
   "execution_count": 8,
   "metadata": {},
   "outputs": [
    {
     "name": "stdout",
     "output_type": "stream",
     "text": [
      "Predictions were accurate (82.1917808219178, 2)% of the time\n"
     ]
    }
   ],
   "source": [
    "PercentPerDay = 100/365\n",
    "Predictions = 300*PercentPerDay\n",
    "\n",
    "print(f\"Predictions were accurate {Predictions}% of the time\")"
   ]
  },
  {
   "cell_type": "markdown",
   "metadata": {},
   "source": [
    "## Classifcation accuracy part 2"
   ]
  },
  {
   "cell_type": "markdown",
   "metadata": {},
   "source": [
    " This calculation is to show whether or not predicting accuracy in this model is sound when dealing with a fire."
   ]
  },
  {
   "cell_type": "code",
   "execution_count": 10,
   "metadata": {},
   "outputs": [
    {
     "name": "stdout",
     "output_type": "stream",
     "text": [
      "Formula:0.987\n"
     ]
    }
   ],
   "source": [
    "TP = 2\n",
    "FP = 2\n",
    "\n",
    "FN = 11\n",
    "TN = 985\n",
    "\n",
    "FireDetectionFormula = (TP+TN)/(TP+TN+FP+FN)\n",
    "\n",
    "print(f\"Formula:{FireDetectionFormula}\")"
   ]
  },
  {
   "cell_type": "markdown",
   "metadata": {},
   "source": [
    "Line"
   ]
  },
  {
   "cell_type": "code",
   "execution_count": 14,
   "metadata": {},
   "outputs": [
    {
     "name": "stdout",
     "output_type": "stream",
     "text": [
      "K-Value=0.75\n"
     ]
    }
   ],
   "source": [
    "X1,X2={4,0}\n",
    "Y1,Y2={4,1}\n",
    "\n",
    "K=(Y2-Y1)/(X2-X1)\n",
    "\n",
    "print(f\"K-Value={K}\")"
   ]
  },
  {
   "cell_type": "markdown",
   "metadata": {},
   "source": [
    "## Euclidean Distance 2D"
   ]
  },
  {
   "cell_type": "code",
   "execution_count": 20,
   "metadata": {},
   "outputs": [
    {
     "name": "stdout",
     "output_type": "stream",
     "text": [
      "Distance in 2D=5.0990195135927845\n"
     ]
    }
   ],
   "source": [
    "P1= [3, 5]\n",
    "P2= [-2,4]\n",
    "\n",
    "D = ((P1[0]-P2[0])**2+(P1[1]-P2[1])**2)**0.5\n",
    "\n",
    "print(f\"Distance in 2D={D}\")"
   ]
  },
  {
   "cell_type": "markdown",
   "metadata": {},
   "source": [
    "## Euclidean Distance 3D"
   ]
  },
  {
   "cell_type": "code",
   "execution_count": 21,
   "metadata": {},
   "outputs": [
    {
     "name": "stdout",
     "output_type": "stream",
     "text": [
      "Distance in 3D=4.123105625617661\n"
     ]
    }
   ],
   "source": [
    "P1 = [2,1,4]\n",
    "P2 = [3,1,0]\n",
    "\n",
    "D = ((P1[0]-P2[0])**2+(P1[1]-P2[1])**2+(P1[2]-P2[2])**2)**0.5\n",
    "\n",
    "print(f\"Distance in 3D={D}\")"
   ]
  },
  {
   "cell_type": "code",
   "execution_count": null,
   "metadata": {},
   "outputs": [],
   "source": []
  }
 ],
 "metadata": {
  "kernelspec": {
   "display_name": "venv",
   "language": "python",
   "name": "python3"
  },
  "language_info": {
   "codemirror_mode": {
    "name": "ipython",
    "version": 3
   },
   "file_extension": ".py",
   "mimetype": "text/x-python",
   "name": "python",
   "nbconvert_exporter": "python",
   "pygments_lexer": "ipython3",
   "version": "3.10.0"
  }
 },
 "nbformat": 4,
 "nbformat_minor": 2
}
