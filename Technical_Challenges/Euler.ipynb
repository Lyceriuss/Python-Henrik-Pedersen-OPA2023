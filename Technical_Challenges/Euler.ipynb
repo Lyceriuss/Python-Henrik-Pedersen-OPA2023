{
 "cells": [
  {
   "cell_type": "markdown",
   "metadata": {},
   "source": [
    "# Here is a collection of some EULER coding tests i have finished, i do these to improve upon my math and active mathing\n"
   ]
  },
  {
   "cell_type": "markdown",
   "metadata": {},
   "source": [
    "-----------------------------------------------------------------------------------------------------------------------------------------------------------------------------"
   ]
  },
  {
   "cell_type": "markdown",
   "metadata": {},
   "source": [
    "## Multiples of 3 or 5"
   ]
  },
  {
   "cell_type": "code",
   "execution_count": 4,
   "metadata": {},
   "outputs": [
    {
     "name": "stdout",
     "output_type": "stream",
     "text": [
      "There were: 1466 instances found for a sum:732667\n"
     ]
    }
   ],
   "source": [
    "count = 0\n",
    "amount =0\n",
    "\n",
    "for i in range(1000):\n",
    "    if i % 3: \n",
    "        count +=1 \n",
    "        amount +=i\n",
    "    if i % 5: \n",
    "        count +=1\n",
    "        amount += i\n",
    "        \n",
    "print(f\"There were: {count} instances found for a sum: {amount}\")"
   ]
  },
  {
   "cell_type": "markdown",
   "metadata": {},
   "source": []
  },
  {
   "cell_type": "markdown",
   "metadata": {},
   "source": [
    "## Even Fibonacci Numbers"
   ]
  },
  {
   "cell_type": "markdown",
   "metadata": {},
   "source": []
  },
  {
   "cell_type": "code",
   "execution_count": 17,
   "metadata": {},
   "outputs": [
    {
     "name": "stdout",
     "output_type": "stream",
     "text": [
      "nr1:1 nr2:2 Fibonacci:3\n",
      "nr1:2 nr2:3 Fibonacci:5\n",
      "nr1:3 nr2:5 Fibonacci:8\n",
      "nr1:5 nr2:8 Fibonacci:13\n",
      "nr1:8 nr2:13 Fibonacci:21\n",
      "nr1:13 nr2:21 Fibonacci:34\n",
      "nr1:21 nr2:34 Fibonacci:55\n",
      "nr1:34 nr2:55 Fibonacci:89\n",
      "nr1:55 nr2:89 Fibonacci:144\n",
      "nr1:89 nr2:144 Fibonacci:233\n",
      "nr1:144 nr2:233 Fibonacci:377\n",
      "nr1:233 nr2:377 Fibonacci:610\n",
      "nr1:377 nr2:610 Fibonacci:987\n",
      "nr1:610 nr2:987 Fibonacci:1597\n",
      "nr1:987 nr2:1597 Fibonacci:2584\n",
      "nr1:1597 nr2:2584 Fibonacci:4181\n",
      "nr1:2584 nr2:4181 Fibonacci:6765\n",
      "nr1:4181 nr2:6765 Fibonacci:10946\n",
      "nr1:6765 nr2:10946 Fibonacci:17711\n",
      "nr1:10946 nr2:17711 Fibonacci:28657\n",
      "nr1:17711 nr2:28657 Fibonacci:46368\n",
      "nr1:28657 nr2:46368 Fibonacci:75025\n",
      "nr1:46368 nr2:75025 Fibonacci:121393\n",
      "nr1:75025 nr2:121393 Fibonacci:196418\n",
      "nr1:121393 nr2:196418 Fibonacci:317811\n",
      "nr1:196418 nr2:317811 Fibonacci:514229\n",
      "nr1:317811 nr2:514229 Fibonacci:832040\n",
      "nr1:514229 nr2:832040 Fibonacci:1346269\n",
      "nr1:832040 nr2:1346269 Fibonacci:2178309\n",
      "nr1:1346269 nr2:2178309 Fibonacci:3524578\n",
      "30\n",
      "4613730\n"
     ]
    }
   ],
   "source": [
    "nr1 = 1\n",
    "nr2 = 2\n",
    "Fibonnaci = 0\n",
    "EvenSum = 0     # Assuming we start from 1 and 2 and not 1+1\n",
    "i = 0\n",
    "\n",
    "while Fibonnaci < 4000000:\n",
    "   \n",
    "    Fibonnaci = nr1 + nr2\n",
    "    if Fibonnaci >= 4000000:\n",
    "        break\n",
    "    print(f\"nr1:{nr1} nr2:{nr2} Fibonacci:{Fibonnaci}\")\n",
    "    nr1 = nr2\n",
    "    nr2 = Fibonnaci\n",
    "    i += 1\n",
    "    if Fibonnaci % 2 == 0:\n",
    "        EvenSum += Fibonnaci\n",
    "        \n",
    "print(i)    \n",
    "print(EvenSum)\n",
    "    "
   ]
  },
  {
   "cell_type": "markdown",
   "metadata": {},
   "source": [
    "## Largest Prime Factor"
   ]
  },
  {
   "cell_type": "code",
   "execution_count": 25,
   "metadata": {},
   "outputs": [
    {
     "name": "stdout",
     "output_type": "stream",
     "text": [
      "The highest prime factor of 600851475143 is: 6857\n"
     ]
    }
   ],
   "source": [
    "# First we divide it by 2 and then we divide it by odd.\n",
    "\n",
    "def prime_factors(n):\n",
    "    factors = []\n",
    "    while n % 2 == 0:\n",
    "        factors.append(2)\n",
    "        n //= 2\n",
    "    for i in range(3, int(n**0.5) + 1, 2):\n",
    "        while n % i == 0:\n",
    "            factors.append(i)\n",
    "            n //= i\n",
    "    if n > 2:\n",
    "        factors.append(n)\n",
    "    return factors\n",
    "\n",
    "num = 600851475143\n",
    "highest_prime = prime_factors(num)\n",
    "print(f\"The highest prime factor of {num} is: {highest_prime[-1]}\")"
   ]
  },
  {
   "cell_type": "markdown",
   "metadata": {},
   "source": [
    "## Largest Palindrome Product\n",
    "\n",
    "A palindromic number reads the same both ways. The largest palindrome made from the product of two \n",
    "\n",
    "Find the largest palindrome made from the product of two \n",
    "3-digit numbers."
   ]
  },
  {
   "cell_type": "code",
   "execution_count": 31,
   "metadata": {},
   "outputs": [
    {
     "name": "stdout",
     "output_type": "stream",
     "text": [
      "Maximum palindrome product is: 906609\n"
     ]
    }
   ],
   "source": [
    "def palindrome_product(n):\n",
    "    str_n = str(n)\n",
    "    return str_n == str_n[::-1]\n",
    "\n",
    "\n",
    "box = []\n",
    "i = 500\n",
    "\n",
    "while i < 1000:\n",
    "    n = i  \n",
    "    while n < 1000:\n",
    "        product = i * n\n",
    "        if palindrome_product(product):\n",
    "            box.append(product)\n",
    "        n += 1\n",
    "    i += 1\n",
    "\n",
    "print(f\"Maximum palindrome product is: {max(box) if box else None}\")"
   ]
  },
  {
   "cell_type": "code",
   "execution_count": null,
   "metadata": {},
   "outputs": [],
   "source": []
  }
 ],
 "metadata": {
  "kernelspec": {
   "display_name": "venv",
   "language": "python",
   "name": "python3"
  },
  "language_info": {
   "codemirror_mode": {
    "name": "ipython",
    "version": 3
   },
   "file_extension": ".py",
   "mimetype": "text/x-python",
   "name": "python",
   "nbconvert_exporter": "python",
   "pygments_lexer": "ipython3",
   "version": "3.10.0"
  }
 },
 "nbformat": 4,
 "nbformat_minor": 2
}
