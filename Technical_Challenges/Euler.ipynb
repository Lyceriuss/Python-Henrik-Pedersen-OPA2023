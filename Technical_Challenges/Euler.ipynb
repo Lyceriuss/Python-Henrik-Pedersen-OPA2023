{
 "cells": [
  {
   "cell_type": "markdown",
   "metadata": {},
   "source": [
    "# Here is a collection of some EULER coding tests i have finished, i do these to improve upon my math and active mathing\n"
   ]
  },
  {
   "cell_type": "markdown",
   "metadata": {},
   "source": [
    "-----------------------------------------------------------------------------------------------------------------------------------------------------------------------------"
   ]
  },
  {
   "cell_type": "markdown",
   "metadata": {},
   "source": [
    "## Multiples of 3 or 5"
   ]
  },
  {
   "cell_type": "code",
   "execution_count": 4,
   "metadata": {},
   "outputs": [
    {
     "name": "stdout",
     "output_type": "stream",
     "text": [
      "There were: 1466 instances found for a sum:732667\n"
     ]
    }
   ],
   "source": [
    "count = 0\n",
    "amount =0\n",
    "\n",
    "for i in range(1000):\n",
    "    if i % 3: \n",
    "        count +=1 \n",
    "        amount +=i\n",
    "    if i % 5: \n",
    "        count +=1\n",
    "        amount += i\n",
    "        \n",
    "print(f\"There were: {count} instances found for a sum: {amount}\")"
   ]
  },
  {
   "cell_type": "markdown",
   "metadata": {},
   "source": []
  },
  {
   "cell_type": "markdown",
   "metadata": {},
   "source": [
    "## Even Fibonacci Numbers"
   ]
  },
  {
   "cell_type": "markdown",
   "metadata": {},
   "source": []
  },
  {
   "cell_type": "code",
   "execution_count": 17,
   "metadata": {},
   "outputs": [
    {
     "name": "stdout",
     "output_type": "stream",
     "text": [
      "nr1:1 nr2:2 Fibonacci:3\n",
      "nr1:2 nr2:3 Fibonacci:5\n",
      "nr1:3 nr2:5 Fibonacci:8\n",
      "nr1:5 nr2:8 Fibonacci:13\n",
      "nr1:8 nr2:13 Fibonacci:21\n",
      "nr1:13 nr2:21 Fibonacci:34\n",
      "nr1:21 nr2:34 Fibonacci:55\n",
      "nr1:34 nr2:55 Fibonacci:89\n",
      "nr1:55 nr2:89 Fibonacci:144\n",
      "nr1:89 nr2:144 Fibonacci:233\n",
      "nr1:144 nr2:233 Fibonacci:377\n",
      "nr1:233 nr2:377 Fibonacci:610\n",
      "nr1:377 nr2:610 Fibonacci:987\n",
      "nr1:610 nr2:987 Fibonacci:1597\n",
      "nr1:987 nr2:1597 Fibonacci:2584\n",
      "nr1:1597 nr2:2584 Fibonacci:4181\n",
      "nr1:2584 nr2:4181 Fibonacci:6765\n",
      "nr1:4181 nr2:6765 Fibonacci:10946\n",
      "nr1:6765 nr2:10946 Fibonacci:17711\n",
      "nr1:10946 nr2:17711 Fibonacci:28657\n",
      "nr1:17711 nr2:28657 Fibonacci:46368\n",
      "nr1:28657 nr2:46368 Fibonacci:75025\n",
      "nr1:46368 nr2:75025 Fibonacci:121393\n",
      "nr1:75025 nr2:121393 Fibonacci:196418\n",
      "nr1:121393 nr2:196418 Fibonacci:317811\n",
      "nr1:196418 nr2:317811 Fibonacci:514229\n",
      "nr1:317811 nr2:514229 Fibonacci:832040\n",
      "nr1:514229 nr2:832040 Fibonacci:1346269\n",
      "nr1:832040 nr2:1346269 Fibonacci:2178309\n",
      "nr1:1346269 nr2:2178309 Fibonacci:3524578\n",
      "30\n",
      "4613730\n"
     ]
    }
   ],
   "source": [
    "nr1 = 1\n",
    "nr2 = 2\n",
    "Fibonnaci = 0\n",
    "EvenSum = 0     # Assuming we start from 1 and 2 and not 1+1\n",
    "i = 0\n",
    "\n",
    "while Fibonnaci < 4000000:\n",
    "   \n",
    "    Fibonnaci = nr1 + nr2\n",
    "    if Fibonnaci >= 4000000:\n",
    "        break\n",
    "    print(f\"nr1:{nr1} nr2:{nr2} Fibonacci:{Fibonnaci}\")\n",
    "    nr1 = nr2\n",
    "    nr2 = Fibonnaci\n",
    "    i += 1\n",
    "    if Fibonnaci % 2 == 0:\n",
    "        EvenSum += Fibonnaci\n",
    "        \n",
    "print(i)    \n",
    "print(EvenSum)\n",
    "    "
   ]
  },
  {
   "cell_type": "markdown",
   "metadata": {},
   "source": [
    "## Largest Prime Factor"
   ]
  },
  {
   "cell_type": "code",
   "execution_count": 25,
   "metadata": {},
   "outputs": [
    {
     "name": "stdout",
     "output_type": "stream",
     "text": [
      "The highest prime factor of 600851475143 is: 6857\n"
     ]
    }
   ],
   "source": [
    "# First we divide it by 2 and then we divide it by odd.\n",
    "\n",
    "def prime_factors(n):\n",
    "    factors = []\n",
    "    while n % 2 == 0:\n",
    "        factors.append(2)\n",
    "        n //= 2\n",
    "    for i in range(3, int(n**0.5) + 1, 2):\n",
    "        while n % i == 0:\n",
    "            factors.append(i)\n",
    "            n //= i\n",
    "    if n > 2:\n",
    "        factors.append(n)\n",
    "    return factors\n",
    "\n",
    "num = 600851475143\n",
    "highest_prime = prime_factors(num)\n",
    "print(f\"The highest prime factor of {num} is: {highest_prime[-1]}\")"
   ]
  },
  {
   "cell_type": "markdown",
   "metadata": {},
   "source": [
    "## Largest Palindrome Product\n",
    "\n",
    "A palindromic number reads the same both ways. The largest palindrome made from the product of two \n",
    "\n",
    "Find the largest palindrome made from the product of two \n",
    "3-digit numbers."
   ]
  },
  {
   "cell_type": "code",
   "execution_count": 31,
   "metadata": {},
   "outputs": [
    {
     "name": "stdout",
     "output_type": "stream",
     "text": [
      "Maximum palindrome product is: 906609\n"
     ]
    }
   ],
   "source": [
    "def palindrome_product(n):\n",
    "    str_n = str(n)\n",
    "    return str_n == str_n[::-1]\n",
    "\n",
    "\n",
    "box = []\n",
    "i = 500\n",
    "\n",
    "while i < 1000:\n",
    "    n = i  \n",
    "    while n < 1000:\n",
    "        product = i * n\n",
    "        if palindrome_product(product):\n",
    "            box.append(product)\n",
    "        n += 1\n",
    "    i += 1\n",
    "\n",
    "print(f\"Maximum palindrome product is: {max(box) if box else None}\")"
   ]
  },
  {
   "cell_type": "markdown",
   "metadata": {},
   "source": [
    "## Smallest multiple\n",
    "\n",
    " 2520 is the smallest number that can be divided by each of the numbers from \n",
    " to \n",
    " without any remainder.\n",
    "\n",
    "What is the smallest positive number that is evenly divisible by all of the numbers from \n",
    " to \n",
    "?"
   ]
  },
  {
   "cell_type": "code",
   "execution_count": 8,
   "metadata": {},
   "outputs": [
    {
     "data": {
      "text/plain": [
       "6"
      ]
     },
     "execution_count": 8,
     "metadata": {},
     "output_type": "execute_result"
    }
   ],
   "source": [
    "def gcd(a, b):\n",
    "    while b:\n",
    "        a, b = b, a % b\n",
    "    return a\n",
    "\n",
    "# a = 48\n",
    "# b = 18\n",
    "\n",
    "# gcd(a,b)"
   ]
  },
  {
   "cell_type": "code",
   "execution_count": 6,
   "metadata": {},
   "outputs": [
    {
     "name": "stdout",
     "output_type": "stream",
     "text": [
      "12\n",
      "6\n",
      "0\n"
     ]
    },
    {
     "data": {
      "text/plain": [
       "144"
      ]
     },
     "execution_count": 6,
     "metadata": {},
     "output_type": "execute_result"
    }
   ],
   "source": [
    "def lcm(a, b):\n",
    "    return abs(a * b) // gcd(a, b)\n",
    "\n",
    "lcm(a,b)"
   ]
  },
  {
   "cell_type": "code",
   "execution_count": 14,
   "metadata": {},
   "outputs": [],
   "source": [
    "def lcm_multiple(numbers):\n",
    "    lcm_value = numbers[0]\n",
    "    for num in numbers[1:]:\n",
    "        lcm_value = lcm(lcm_value, num) #Calls LCM which turn calls GCD\n",
    "    return lcm_value"
   ]
  },
  {
   "cell_type": "code",
   "execution_count": 15,
   "metadata": {},
   "outputs": [
    {
     "name": "stdout",
     "output_type": "stream",
     "text": [
      "The smallest positive number that is evenly divisible by all of the numbers from 1 to 20 is: 232792560\n"
     ]
    }
   ],
   "source": [
    "numbers = list(range(1, 21))[::-1] #Lets reverse it to save computing power.\n",
    "\n",
    "result = lcm_multiple(numbers)  \n",
    "\n",
    "print(f\"The smallest positive number that is evenly divisible by all of the numbers from 1 to 20 is: {result}\")"
   ]
  },
  {
   "cell_type": "markdown",
   "metadata": {},
   "source": [
    "## Sum Square Difference\n",
    "\n",
    "Find the difference between the sum of the squares of the first one hundred natural numbers and the square of the sum."
   ]
  },
  {
   "cell_type": "code",
   "execution_count": 24,
   "metadata": {},
   "outputs": [
    {
     "data": {
      "text/plain": [
       "338350"
      ]
     },
     "execution_count": 24,
     "metadata": {},
     "output_type": "execute_result"
    }
   ],
   "source": [
    "def sum_square(a):\n",
    "    result = (a*(a+1)*(a*2+1))//6\n",
    "    return result\n"
   ]
  },
  {
   "cell_type": "code",
   "execution_count": 26,
   "metadata": {},
   "outputs": [
    {
     "data": {
      "text/plain": [
       "3025"
      ]
     },
     "execution_count": 26,
     "metadata": {},
     "output_type": "execute_result"
    }
   ],
   "source": [
    "def square_sum(a):\n",
    "    result = (a*(a+1)//2) ** 2\n",
    "    return result\n"
   ]
  },
  {
   "cell_type": "code",
   "execution_count": 28,
   "metadata": {},
   "outputs": [
    {
     "data": {
      "text/plain": [
       "25164150"
      ]
     },
     "execution_count": 28,
     "metadata": {},
     "output_type": "execute_result"
    }
   ],
   "source": [
    "def difference(a):\n",
    "    sq_sum = square_sum(a)\n",
    "    sum_sq = sum_square(a)\n",
    "    \n",
    "    return sq_sum - sum_sq      # SQ sum is always higher or equal.\n",
    "    \n",
    "    \n",
    "difference(100)"
   ]
  },
  {
   "cell_type": "markdown",
   "metadata": {},
   "source": [
    "## 10001st Prime"
   ]
  },
  {
   "cell_type": "code",
   "execution_count": 36,
   "metadata": {},
   "outputs": [
    {
     "name": "stdout",
     "output_type": "stream",
     "text": [
      "The 10001 prime number is: 104743\n"
     ]
    }
   ],
   "source": [
    "def is_prime(n):\n",
    "    if n <= 1:\n",
    "        return False\n",
    "    if n <= 3:\n",
    "        return True\n",
    "    if n % 2 == 0 or n % 3 == 0:\n",
    "        return False\n",
    "    i = 5       # Start from 5 and use 6k-+1\n",
    "    while i * i <= n:\n",
    "        if n % i == 0 or n % (i + 2) == 0:\n",
    "            return False\n",
    "        i += 6\n",
    "    return True\n",
    "\n",
    "\n",
    "def find_prime(n):\n",
    "    count = 0\n",
    "    candidate = 2       # Start from 2\n",
    "    while True:\n",
    "        if is_prime(candidate):\n",
    "            count += 1\n",
    "            if count == n:\n",
    "                return candidate\n",
    "        candidate += 1\n",
    "\n",
    "\n",
    "number = 10001\n",
    "prime_nr = find_prime(number)\n",
    "print(f\"The {number} prime_nr number is: {prime_nr}\")"
   ]
  },
  {
   "cell_type": "markdown",
   "metadata": {},
   "source": [
    "## Largest Product in a Series\n",
    "\n",
    "Find the thirteen adjacent digits in the \n",
    "-digit number that have the greatest product. What is the value of this product?"
   ]
  },
  {
   "cell_type": "code",
   "execution_count": 19,
   "metadata": {},
   "outputs": [
    {
     "name": "stdout",
     "output_type": "stream",
     "text": [
      "3087\n"
     ]
    }
   ],
   "source": [
    "data = \"7316717653133062491922511967442657474235534919493496983520312774506326239578318016984801869478851843858615607891129494954595017379583319528532088055111254069874715852386305071569329096329522744304355766896648950445244523161731856403098711121722383113622298934233803081353362766142828064444866452387493035890729629049156044077239071381051585930796086670172427121883998797908792274921901699720888093776657273330010533678812202354218097512545405947522435258490771167055601360483958644670632441572215539753697817977846174064955149290862569321978468622482839722413756570560574902614079729686524145351004748216637048440319989000889524345065854122758866688116427171479924442928230863465674813919123162824586178664583591245665294765456828489128831426076900422421902267105562632111110937054421750694165896040807198403850962455444362981230987879927244284909188845801561660979191338754992005240636899125607176060588611646710940507754100225698315520005593572972571636269561882670428252483600823257530420752963450\"\n",
    "\n",
    "result = []\n",
    "product = 1\n",
    "\n",
    "def largest_product(result, product, data):\n",
    "    for i in range(len(data)-3):\n",
    "        \n",
    "        batch = data[i:i+4]\n",
    "        for char in batch:\n",
    "            product *= int(char)\n",
    "            \n",
    "        i+=1\n",
    "        result.append(product)\n",
    "        product = 1\n",
    "    \n",
    "\n",
    "largest_product(result, product, data)\n",
    "\n",
    "sorted_list = sorted(result, reverse=True)\n",
    "\n",
    "print(sorted_list[13])\n",
    "\n",
    "\n",
    "        \n",
    "    "
   ]
  },
  {
   "cell_type": "markdown",
   "metadata": {},
   "source": [
    "## Special Pythagorean Triplet\n",
    "\n",
    "here exists exactly one Pythagorean triplet for which a+b+c = 1000\n",
    "Find the product abc "
   ]
  },
  {
   "cell_type": "code",
   "execution_count": 78,
   "metadata": {},
   "outputs": [
    {
     "name": "stdout",
     "output_type": "stream",
     "text": [
      "The Pythagorean triplet is: a=200, b=375, c=425\n",
      "The product abc is: 31875000\n"
     ]
    },
    {
     "data": {
      "text/plain": [
       "1000"
      ]
     },
     "execution_count": 78,
     "metadata": {},
     "output_type": "execute_result"
    }
   ],
   "source": [
    "def find_pythagorean_triplet():\n",
    "    for a in range(1, 1000):\n",
    "        for b in range(a + 1, 1000 - a):\n",
    "            c = 1000 - a - b\n",
    "            if a**2 + b**2 == c**2:\n",
    "                print(f\"The Pythagorean triplet is: a={a}, b={b}, c={c}\")\n",
    "                print(f\"The product abc is: {a * b * c}\")\n",
    "                return a + b + c\n",
    "\n",
    "\n",
    "find_pythagorean_triplet()"
   ]
  },
  {
   "cell_type": "markdown",
   "metadata": {},
   "source": [
    "## Summation of Primes\n",
    "\n",
    "Find the sum of all the primes below two million."
   ]
  },
  {
   "cell_type": "code",
   "execution_count": 2,
   "metadata": {},
   "outputs": [
    {
     "name": "stdout",
     "output_type": "stream",
     "text": [
      "The sum of all primes below 2000000 is 142913828922\n"
     ]
    }
   ],
   "source": [
    "def is_prime(n):\n",
    "    if n <= 1:\n",
    "        return False\n",
    "    if n <= 3:\n",
    "        return True\n",
    "    if n % 2 == 0 or n % 3 == 0:\n",
    "        return False\n",
    "    i = 5  # Start from 5 and use 6k+-1\n",
    "    while i * i <= n:\n",
    "        if n % i == 0 or n % (i + 2) == 0:\n",
    "            return False\n",
    "        i += 6\n",
    "    return True\n",
    "\n",
    "\n",
    "def find_prime_sum(n):\n",
    "    prime_sum = 0\n",
    "    for count in range(2, n):\n",
    "        if is_prime(count):\n",
    "            prime_sum += count\n",
    "    return prime_sum\n",
    "\n",
    "\n",
    "amount = 2000000\n",
    "prime_sum = find_prime_sum(amount)\n",
    "print(f\"The sum of all primes below {amount} is {prime_sum}\")"
   ]
  },
  {
   "cell_type": "markdown",
   "metadata": {},
   "source": [
    "## Largest Product in a Grid\n",
    "\n",
    "What is the greatest product of four adjacent numbers in the same direction (up, down, left, right, or diagonally) in the \n",
    " grid?"
   ]
  },
  {
   "cell_type": "code",
   "execution_count": 4,
   "metadata": {},
   "outputs": [],
   "source": [
    "grid_string = '''\n",
    "08 02 22 97 38 15 00 40 00 75 04 05 07 78 52 12 50 77 91 08\n",
    "49 49 99 40 17 81 18 57 60 87 17 40 98 43 69 48 04 56 62 00\n",
    "81 49 31 73 55 79 14 29 93 71 40 67 53 88 30 03 49 13 36 65\n",
    "52 70 95 23 04 60 11 42 69 24 68 56 01 32 56 71 37 02 36 91\n",
    "22 31 16 71 51 67 63 89 41 92 36 54 22 40 40 28 66 33 13 80\n",
    "24 47 32 60 99 03 45 02 44 75 33 53 78 36 84 20 35 17 12 50\n",
    "32 98 81 28 64 23 67 10 26 38 40 67 59 54 70 66 18 38 64 70\n",
    "67 26 20 68 02 62 12 20 95 63 94 39 63 08 40 91 66 49 94 21\n",
    "24 55 58 05 66 73 99 26 97 17 78 78 96 83 14 88 34 89 63 72\n",
    "21 36 23 09 75 00 76 44 20 45 35 14 00 61 33 97 34 31 33 95\n",
    "78 17 53 28 22 75 31 67 15 94 03 80 04 62 16 14 09 53 56 92\n",
    "16 39 05 42 96 35 31 47 55 58 88 24 00 17 54 24 36 29 85 57\n",
    "86 56 00 48 35 71 89 07 05 44 44 37 44 60 21 58 51 54 17 58\n",
    "19 80 81 68 05 94 47 69 28 73 92 13 86 52 17 77 04 89 55 40\n",
    "04 52 08 83 97 35 99 16 07 97 57 32 16 26 26 79 33 27 98 66\n",
    "88 36 68 87 57 62 20 72 03 46 33 67 46 55 12 32 63 93 53 69\n",
    "04 42 16 73 38 25 39 11 24 94 72 18 08 46 29 32 40 62 76 36\n",
    "20 69 36 41 72 30 23 88 34 62 99 69 82 67 59 85 74 04 36 16\n",
    "20 73 35 29 78 31 90 01 74 31 49 71 48 86 81 16 23 57 05 54\n",
    "01 70 54 71 83 51 54 69 16 92 33 48 61 43 52 01 89 19 67 48\n",
    "'''\n",
    "\n",
    "grid = [list(map(int, line.split()))\n",
    "        for line in grid_string.strip().split('\\n')]\n"
   ]
  },
  {
   "cell_type": "code",
   "execution_count": null,
   "metadata": {},
   "outputs": [],
   "source": []
  }
 ],
 "metadata": {
  "kernelspec": {
   "display_name": "venv",
   "language": "python",
   "name": "python3"
  },
  "language_info": {
   "codemirror_mode": {
    "name": "ipython",
    "version": 3
   },
   "file_extension": ".py",
   "mimetype": "text/x-python",
   "name": "python",
   "nbconvert_exporter": "python",
   "pygments_lexer": "ipython3",
   "version": "3.10.0"
  }
 },
 "nbformat": 4,
 "nbformat_minor": 2
}
